{
 "cells": [
  {
   "cell_type": "code",
   "execution_count": 1,
   "id": "954657ce",
   "metadata": {},
   "outputs": [],
   "source": [
    "import os\n",
    "import numpy as np\n",
    "import tensorflow as tf\n",
    "import tensorflow.keras.backend as k\n",
    "from tensorflow.keras.utils import Sequence\n",
    "from tensorflow.keras.models import *\n",
    "from tensorflow.keras.layers import *\n",
    "from tensorflow.keras.optimizers import *\n",
    "from tensorflow.keras.callbacks import *\n",
    "from tensorflow.keras.models import load_model\n",
    "from tensorflow.keras.callbacks import History\n",
    "from keras.models import *\n",
    "from keras.layers import *\n",
    "from keras.optimizers import *\n",
    "from keras.callbacks import ModelCheckpoint, LearningRateScheduler\n",
    "from keras import backend as keras\n",
    "from tensorflow.python.keras.optimizers import TFOptimizer\n",
    "from tensorflow.keras import backend as K\n",
    "import math\n",
    "import matplotlib.pyplot as plt\n",
    "import random\n",
    "\n"
   ]
  },
  {
   "cell_type": "markdown",
   "id": "83c47bd1",
   "metadata": {},
   "source": [
    "# Load data"
   ]
  },
  {
   "cell_type": "code",
   "execution_count": 2,
   "id": "d7c75438",
   "metadata": {},
   "outputs": [],
   "source": [
    "#change current directory up to parent, only run 1 time!\n",
    "os.chdir(\"..\")"
   ]
  },
  {
   "cell_type": "code",
   "execution_count": 3,
   "id": "f69a044e",
   "metadata": {},
   "outputs": [],
   "source": [
    "#loads data from clean_data \n",
    "#path need to be set to the clean_data folder\n",
    "def load_data(test=False,Print=False,path=f'{os.path.abspath(os.curdir)}/data/carseg_data/clean_data',nr_img=1498):\n",
    "    train_data_input=[]\n",
    "    train_data_target=[]\n",
    "    \n",
    "    for n in range(nr_img):\n",
    "        n1=n\n",
    "        if test:\n",
    "            n1=f'{n}_a'\n",
    "        try:\n",
    "            test1=np.load(f'{path}/{n1}.npy')\n",
    "            inputs=test1[:3].transpose()/255\n",
    "            inputs=tf.convert_to_tensor(inputs)\n",
    "            #inputs=inputs[tf.newaxis,...]\n",
    "            target=test1[3].transpose()\n",
    "            target=tf.convert_to_tensor(target)\n",
    "            target=target[...,tf.newaxis]\n",
    "            #target=target[tf.newaxis,...]\n",
    "\n",
    "            \n",
    "            train_data_input.append(inputs)\n",
    "            train_data_target.append(target)\n",
    "        except:\n",
    "            if Print:\n",
    "                print(f'fil nr {n} mangeler')\n",
    "    return [train_data_input,train_data_target]"
   ]
  },
  {
   "cell_type": "code",
   "execution_count": 4,
   "id": "3bd7e519",
   "metadata": {},
   "outputs": [],
   "source": [
    "#Load teat and train data\n",
    "test_data=load_data(test=True)\n",
    "train_data=load_data()"
   ]
  },
  {
   "cell_type": "code",
   "execution_count": 5,
   "id": "cfab4d52",
   "metadata": {},
   "outputs": [
    {
     "name": "stdout",
     "output_type": "stream",
     "text": [
      "test_data:\n",
      "Number of img 99\n",
      "target sahpe (256, 256, 1)\n",
      "input shape (256, 256, 3)\n",
      "train_data:\n",
      "Number of img 1128\n",
      "target sahpe (256, 256, 1)\n",
      "input shape (256, 256, 3)\n"
     ]
    }
   ],
   "source": [
    "#print some info about data structer\n",
    "def Get_stats(data):\n",
    "    print(f'Number of img {len(data[0])}')\n",
    "    print(f'target sahpe {data[1][0].shape}')\n",
    "    print(f'input shape {data[0][0].shape}')\n",
    "\n",
    "print('test_data:')\n",
    "Get_stats(test_data)\n",
    "print('train_data:')\n",
    "Get_stats(train_data)"
   ]
  },
  {
   "cell_type": "markdown",
   "id": "7829e3c0",
   "metadata": {},
   "source": [
    "# One hot encoder"
   ]
  },
  {
   "cell_type": "code",
   "execution_count": 6,
   "id": "7aaf3df1",
   "metadata": {},
   "outputs": [],
   "source": [
    "#makes the one hot encoder on test and train\n",
    "depth = 8\n",
    "test_data[1]=tf.one_hot(test_data[1], depth)[:,:,:,0,:]\n",
    "train_data[1]=tf.one_hot(train_data[1], depth)[:,:,:,0,:]"
   ]
  },
  {
   "cell_type": "code",
   "execution_count": 7,
   "id": "645ec2da",
   "metadata": {},
   "outputs": [
    {
     "name": "stdout",
     "output_type": "stream",
     "text": [
      "test_data:\n",
      "Number of img 99\n",
      "target sahpe (256, 256, 8)\n",
      "input shape (256, 256, 3)\n",
      "train_data:\n",
      "Number of img 1128\n",
      "target sahpe (256, 256, 8)\n",
      "input shape (256, 256, 3)\n"
     ]
    }
   ],
   "source": [
    "#print some info about data structer\n",
    "print('test_data:')\n",
    "Get_stats(test_data)\n",
    "print('train_data:')\n",
    "Get_stats(train_data)"
   ]
  },
  {
   "cell_type": "code",
   "execution_count": 9,
   "id": "fb422813",
   "metadata": {
    "scrolled": false
   },
   "outputs": [
    {
     "name": "stdout",
     "output_type": "stream",
     "text": [
      "Model: \"model_1\"\n",
      "__________________________________________________________________________________________________\n",
      " Layer (type)                   Output Shape         Param #     Connected to                     \n",
      "==================================================================================================\n",
      " input_2 (InputLayer)           [(None, 256, 256, 3  0           []                               \n",
      "                                )]                                                                \n",
      "                                                                                                  \n",
      " conv2d_24 (Conv2D)             (None, 256, 256, 64  1792        ['input_2[0][0]']                \n",
      "                                )                                                                 \n",
      "                                                                                                  \n",
      " batch_normalization_22 (BatchN  (None, 256, 256, 64  256        ['conv2d_24[0][0]']              \n",
      " ormalization)                  )                                                                 \n",
      "                                                                                                  \n",
      " leaky_re_lu_23 (LeakyReLU)     (None, 256, 256, 64  0           ['batch_normalization_22[0][0]'] \n",
      "                                )                                                                 \n",
      "                                                                                                  \n",
      " conv2d_25 (Conv2D)             (None, 256, 256, 64  36928       ['leaky_re_lu_23[0][0]']         \n",
      "                                )                                                                 \n",
      "                                                                                                  \n",
      " batch_normalization_23 (BatchN  (None, 256, 256, 64  256        ['conv2d_25[0][0]']              \n",
      " ormalization)                  )                                                                 \n",
      "                                                                                                  \n",
      " leaky_re_lu_24 (LeakyReLU)     (None, 256, 256, 64  0           ['batch_normalization_23[0][0]'] \n",
      "                                )                                                                 \n",
      "                                                                                                  \n",
      " max_pooling2d_4 (MaxPooling2D)  (None, 128, 128, 64  0          ['leaky_re_lu_24[0][0]']         \n",
      "                                )                                                                 \n",
      "                                                                                                  \n",
      " conv2d_26 (Conv2D)             (None, 128, 128, 12  73856       ['max_pooling2d_4[0][0]']        \n",
      "                                8)                                                                \n",
      "                                                                                                  \n",
      " batch_normalization_24 (BatchN  (None, 128, 128, 12  512        ['conv2d_26[0][0]']              \n",
      " ormalization)                  8)                                                                \n",
      "                                                                                                  \n",
      " leaky_re_lu_25 (LeakyReLU)     (None, 128, 128, 12  0           ['batch_normalization_24[0][0]'] \n",
      "                                8)                                                                \n",
      "                                                                                                  \n",
      " conv2d_27 (Conv2D)             (None, 128, 128, 12  147584      ['leaky_re_lu_25[0][0]']         \n",
      "                                8)                                                                \n",
      "                                                                                                  \n",
      " batch_normalization_25 (BatchN  (None, 128, 128, 12  512        ['conv2d_27[0][0]']              \n",
      " ormalization)                  8)                                                                \n",
      "                                                                                                  \n",
      " leaky_re_lu_26 (LeakyReLU)     (None, 128, 128, 12  0           ['batch_normalization_25[0][0]'] \n",
      "                                8)                                                                \n",
      "                                                                                                  \n",
      " max_pooling2d_5 (MaxPooling2D)  (None, 64, 64, 128)  0          ['leaky_re_lu_26[0][0]']         \n",
      "                                                                                                  \n",
      " conv2d_28 (Conv2D)             (None, 64, 64, 256)  295168      ['max_pooling2d_5[0][0]']        \n",
      "                                                                                                  \n",
      " batch_normalization_26 (BatchN  (None, 64, 64, 256)  1024       ['conv2d_28[0][0]']              \n",
      " ormalization)                                                                                    \n",
      "                                                                                                  \n",
      " leaky_re_lu_27 (LeakyReLU)     (None, 64, 64, 256)  0           ['batch_normalization_26[0][0]'] \n",
      "                                                                                                  \n",
      " conv2d_29 (Conv2D)             (None, 64, 64, 256)  590080      ['leaky_re_lu_27[0][0]']         \n",
      "                                                                                                  \n",
      " batch_normalization_27 (BatchN  (None, 64, 64, 256)  1024       ['conv2d_29[0][0]']              \n",
      " ormalization)                                                                                    \n",
      "                                                                                                  \n",
      " leaky_re_lu_28 (LeakyReLU)     (None, 64, 64, 256)  0           ['batch_normalization_27[0][0]'] \n",
      "                                                                                                  \n",
      " max_pooling2d_6 (MaxPooling2D)  (None, 32, 32, 256)  0          ['leaky_re_lu_28[0][0]']         \n",
      "                                                                                                  \n",
      " conv2d_30 (Conv2D)             (None, 32, 32, 512)  1180160     ['max_pooling2d_6[0][0]']        \n",
      "                                                                                                  \n",
      " batch_normalization_28 (BatchN  (None, 32, 32, 512)  2048       ['conv2d_30[0][0]']              \n",
      " ormalization)                                                                                    \n",
      "                                                                                                  \n",
      " leaky_re_lu_29 (LeakyReLU)     (None, 32, 32, 512)  0           ['batch_normalization_28[0][0]'] \n",
      "                                                                                                  \n",
      " conv2d_31 (Conv2D)             (None, 32, 32, 512)  2359808     ['leaky_re_lu_29[0][0]']         \n",
      "                                                                                                  \n",
      " batch_normalization_29 (BatchN  (None, 32, 32, 512)  2048       ['conv2d_31[0][0]']              \n",
      " ormalization)                                                                                    \n",
      "                                                                                                  \n",
      " leaky_re_lu_30 (LeakyReLU)     (None, 32, 32, 512)  0           ['batch_normalization_29[0][0]'] \n",
      "                                                                                                  \n",
      " max_pooling2d_7 (MaxPooling2D)  (None, 16, 16, 512)  0          ['leaky_re_lu_30[0][0]']         \n",
      "                                                                                                  \n",
      " conv2d_32 (Conv2D)             (None, 16, 16, 1024  4719616     ['max_pooling2d_7[0][0]']        \n",
      "                                )                                                                 \n",
      "                                                                                                  \n",
      " batch_normalization_30 (BatchN  (None, 16, 16, 1024  4096       ['conv2d_32[0][0]']              \n"
     ]
    },
    {
     "name": "stdout",
     "output_type": "stream",
     "text": [
      " ormalization)                  )                                                                 \n",
      "                                                                                                  \n",
      " leaky_re_lu_31 (LeakyReLU)     (None, 16, 16, 1024  0           ['batch_normalization_30[0][0]'] \n",
      "                                )                                                                 \n",
      "                                                                                                  \n",
      " conv2d_33 (Conv2D)             (None, 16, 16, 1024  9438208     ['leaky_re_lu_31[0][0]']         \n",
      "                                )                                                                 \n",
      "                                                                                                  \n",
      " batch_normalization_31 (BatchN  (None, 16, 16, 1024  4096       ['conv2d_33[0][0]']              \n",
      " ormalization)                  )                                                                 \n",
      "                                                                                                  \n",
      " leaky_re_lu_32 (LeakyReLU)     (None, 16, 16, 1024  0           ['batch_normalization_31[0][0]'] \n",
      "                                )                                                                 \n",
      "                                                                                                  \n",
      " up_sampling2d_4 (UpSampling2D)  (None, 32, 32, 1024  0          ['leaky_re_lu_32[0][0]']         \n",
      "                                )                                                                 \n",
      "                                                                                                  \n",
      " conv2d_34 (Conv2D)             (None, 32, 32, 512)  2097664     ['up_sampling2d_4[0][0]']        \n",
      "                                                                                                  \n",
      " dropout_3 (Dropout)            (None, 32, 32, 512)  0           ['leaky_re_lu_30[0][0]']         \n",
      "                                                                                                  \n",
      " leaky_re_lu_33 (LeakyReLU)     (None, 32, 32, 512)  0           ['conv2d_34[0][0]']              \n",
      "                                                                                                  \n",
      " concatenate_4 (Concatenate)    (None, 32, 32, 1024  0           ['dropout_3[0][0]',              \n",
      "                                )                                 'leaky_re_lu_33[0][0]']         \n",
      "                                                                                                  \n",
      " conv2d_35 (Conv2D)             (None, 32, 32, 512)  4719104     ['concatenate_4[0][0]']          \n",
      "                                                                                                  \n",
      " batch_normalization_32 (BatchN  (None, 32, 32, 512)  2048       ['conv2d_35[0][0]']              \n",
      " ormalization)                                                                                    \n",
      "                                                                                                  \n",
      " leaky_re_lu_34 (LeakyReLU)     (None, 32, 32, 512)  0           ['batch_normalization_32[0][0]'] \n",
      "                                                                                                  \n",
      " conv2d_36 (Conv2D)             (None, 32, 32, 512)  2359808     ['leaky_re_lu_34[0][0]']         \n",
      "                                                                                                  \n",
      " batch_normalization_33 (BatchN  (None, 32, 32, 512)  2048       ['conv2d_36[0][0]']              \n",
      " ormalization)                                                                                    \n",
      "                                                                                                  \n",
      " leaky_re_lu_35 (LeakyReLU)     (None, 32, 32, 512)  0           ['batch_normalization_33[0][0]'] \n",
      "                                                                                                  \n",
      " up_sampling2d_5 (UpSampling2D)  (None, 64, 64, 512)  0          ['leaky_re_lu_35[0][0]']         \n",
      "                                                                                                  \n",
      " conv2d_37 (Conv2D)             (None, 64, 64, 256)  524544      ['up_sampling2d_5[0][0]']        \n",
      "                                                                                                  \n",
      " batch_normalization_34 (BatchN  (None, 64, 64, 256)  1024       ['conv2d_37[0][0]']              \n",
      " ormalization)                                                                                    \n",
      "                                                                                                  \n",
      " leaky_re_lu_36 (LeakyReLU)     (None, 64, 64, 256)  0           ['batch_normalization_34[0][0]'] \n",
      "                                                                                                  \n",
      " dropout_4 (Dropout)            (None, 64, 64, 256)  0           ['leaky_re_lu_36[0][0]']         \n",
      "                                                                                                  \n",
      " concatenate_5 (Concatenate)    (None, 64, 64, 512)  0           ['leaky_re_lu_28[0][0]',         \n",
      "                                                                  'dropout_4[0][0]']              \n",
      "                                                                                                  \n",
      " conv2d_38 (Conv2D)             (None, 64, 64, 256)  1179904     ['concatenate_5[0][0]']          \n",
      "                                                                                                  \n",
      " batch_normalization_35 (BatchN  (None, 64, 64, 256)  1024       ['conv2d_38[0][0]']              \n",
      " ormalization)                                                                                    \n",
      "                                                                                                  \n",
      " leaky_re_lu_37 (LeakyReLU)     (None, 64, 64, 256)  0           ['batch_normalization_35[0][0]'] \n",
      "                                                                                                  \n",
      " conv2d_39 (Conv2D)             (None, 64, 64, 256)  590080      ['leaky_re_lu_37[0][0]']         \n",
      "                                                                                                  \n",
      " batch_normalization_36 (BatchN  (None, 64, 64, 256)  1024       ['conv2d_39[0][0]']              \n",
      " ormalization)                                                                                    \n",
      "                                                                                                  \n",
      " leaky_re_lu_38 (LeakyReLU)     (None, 64, 64, 256)  0           ['batch_normalization_36[0][0]'] \n",
      "                                                                                                  \n",
      " up_sampling2d_6 (UpSampling2D)  (None, 128, 128, 25  0          ['leaky_re_lu_38[0][0]']         \n",
      "                                6)                                                                \n",
      "                                                                                                  \n",
      " conv2d_40 (Conv2D)             (None, 128, 128, 12  131200      ['up_sampling2d_6[0][0]']        \n",
      "                                8)                                                                \n",
      "                                                                                                  \n",
      " batch_normalization_37 (BatchN  (None, 128, 128, 12  512        ['conv2d_40[0][0]']              \n",
      " ormalization)                  8)                                                                \n",
      "                                                                                                  \n",
      " leaky_re_lu_39 (LeakyReLU)     (None, 128, 128, 12  0           ['batch_normalization_37[0][0]'] \n",
      "                                8)                                                                \n",
      "                                                                                                  \n",
      " concatenate_6 (Concatenate)    (None, 128, 128, 25  0           ['leaky_re_lu_26[0][0]',         \n",
      "                                6)                                'leaky_re_lu_39[0][0]']         \n",
      "                                                                                                  \n"
     ]
    },
    {
     "name": "stdout",
     "output_type": "stream",
     "text": [
      " conv2d_41 (Conv2D)             (None, 128, 128, 12  295040      ['concatenate_6[0][0]']          \n",
      "                                8)                                                                \n",
      "                                                                                                  \n",
      " batch_normalization_38 (BatchN  (None, 128, 128, 12  512        ['conv2d_41[0][0]']              \n",
      " ormalization)                  8)                                                                \n",
      "                                                                                                  \n",
      " leaky_re_lu_40 (LeakyReLU)     (None, 128, 128, 12  0           ['batch_normalization_38[0][0]'] \n",
      "                                8)                                                                \n",
      "                                                                                                  \n",
      " conv2d_42 (Conv2D)             (None, 128, 128, 12  147584      ['leaky_re_lu_40[0][0]']         \n",
      "                                8)                                                                \n",
      "                                                                                                  \n",
      " batch_normalization_39 (BatchN  (None, 128, 128, 12  512        ['conv2d_42[0][0]']              \n",
      " ormalization)                  8)                                                                \n",
      "                                                                                                  \n",
      " leaky_re_lu_41 (LeakyReLU)     (None, 128, 128, 12  0           ['batch_normalization_39[0][0]'] \n",
      "                                8)                                                                \n",
      "                                                                                                  \n",
      " up_sampling2d_7 (UpSampling2D)  (None, 256, 256, 12  0          ['leaky_re_lu_41[0][0]']         \n",
      "                                8)                                                                \n",
      "                                                                                                  \n",
      " conv2d_43 (Conv2D)             (None, 256, 256, 64  32832       ['up_sampling2d_7[0][0]']        \n",
      "                                )                                                                 \n",
      "                                                                                                  \n",
      " batch_normalization_40 (BatchN  (None, 256, 256, 64  256        ['conv2d_43[0][0]']              \n",
      " ormalization)                  )                                                                 \n",
      "                                                                                                  \n",
      " leaky_re_lu_42 (LeakyReLU)     (None, 256, 256, 64  0           ['batch_normalization_40[0][0]'] \n",
      "                                )                                                                 \n",
      "                                                                                                  \n",
      " dropout_5 (Dropout)            (None, 256, 256, 64  0           ['leaky_re_lu_42[0][0]']         \n",
      "                                )                                                                 \n",
      "                                                                                                  \n",
      " concatenate_7 (Concatenate)    (None, 256, 256, 12  0           ['leaky_re_lu_24[0][0]',         \n",
      "                                8)                                'dropout_5[0][0]']              \n",
      "                                                                                                  \n",
      " conv2d_44 (Conv2D)             (None, 256, 256, 64  73792       ['concatenate_7[0][0]']          \n",
      "                                )                                                                 \n",
      "                                                                                                  \n",
      " batch_normalization_41 (BatchN  (None, 256, 256, 64  256        ['conv2d_44[0][0]']              \n",
      " ormalization)                  )                                                                 \n",
      "                                                                                                  \n",
      " leaky_re_lu_43 (LeakyReLU)     (None, 256, 256, 64  0           ['batch_normalization_41[0][0]'] \n",
      "                                )                                                                 \n",
      "                                                                                                  \n",
      " conv2d_45 (Conv2D)             (None, 256, 256, 64  36928       ['leaky_re_lu_43[0][0]']         \n",
      "                                )                                                                 \n",
      "                                                                                                  \n",
      " batch_normalization_42 (BatchN  (None, 256, 256, 64  256        ['conv2d_45[0][0]']              \n",
      " ormalization)                  )                                                                 \n",
      "                                                                                                  \n",
      " leaky_re_lu_44 (LeakyReLU)     (None, 256, 256, 64  0           ['batch_normalization_42[0][0]'] \n",
      "                                )                                                                 \n",
      "                                                                                                  \n",
      " conv2d_46 (Conv2D)             (None, 256, 256, 2)  1154        ['leaky_re_lu_44[0][0]']         \n",
      "                                                                                                  \n",
      " batch_normalization_43 (BatchN  (None, 256, 256, 2)  8          ['conv2d_46[0][0]']              \n",
      " ormalization)                                                                                    \n",
      "                                                                                                  \n",
      " leaky_re_lu_45 (LeakyReLU)     (None, 256, 256, 2)  0           ['batch_normalization_43[0][0]'] \n",
      "                                                                                                  \n",
      " conv2d_47 (Conv2D)             (None, 256, 256, 8)  24          ['leaky_re_lu_45[0][0]']         \n",
      "                                                                                                  \n",
      "==================================================================================================\n",
      "Total params: 31,058,210\n",
      "Trainable params: 31,045,534\n",
      "Non-trainable params: 12,676\n",
      "__________________________________________________________________________________________________\n"
     ]
    }
   ],
   "source": [
    "#Creat Unet structer curently whit out Dropout\n",
    "leakyrelu_alpha = 0.3\n",
    "dr_rate = 0.6\n",
    "def unet(pretrained_weights=None, input_size=(256, 256, 3)):\n",
    "    inputs = Input(input_size)\n",
    "    conv1 = Conv2D(64, 3, activation = None, padding = 'same', kernel_initializer = 'he_normal')(inputs)\n",
    "    conv1 = BatchNormalization()(conv1)\n",
    "    conv1 = LeakyReLU(alpha=leakyrelu_alpha)(conv1)\n",
    "    #conv1 = Dropout(dr_rate)(conv1) ###\n",
    "    conv1 = Conv2D(64, 3, activation = None, padding = 'same', kernel_initializer = 'he_normal')(conv1)\n",
    "    conv1 = BatchNormalization()(conv1)    \n",
    "    conv1 = LeakyReLU(alpha=leakyrelu_alpha)(conv1)\n",
    "    #conv1 = Dropout(dr_rate)(conv1) ###\n",
    "    pool1 = MaxPooling2D(pool_size=(2, 2))(conv1)\n",
    "    #pool1 = Dropout(dr_rate)(pool1) ### \n",
    "    \n",
    "    conv2 = Conv2D(128, 3, activation = None, padding = 'same', kernel_initializer = 'he_normal')(pool1)\n",
    "    conv2 = BatchNormalization()(conv2)\n",
    "    conv2 = LeakyReLU(alpha=leakyrelu_alpha)(conv2)\n",
    "    #conv2 = Dropout(dr_rate)(conv2)###\n",
    "    conv2 = Conv2D(128, 3, activation = None, padding = 'same', kernel_initializer = 'he_normal')(conv2)\n",
    "    conv2 = BatchNormalization()(conv2)\n",
    "    conv2 = LeakyReLU(alpha=leakyrelu_alpha)(conv2)    \n",
    "    #conv2 = Dropout(dr_rate)(conv2)###    \n",
    "    pool2 = MaxPooling2D(pool_size=(2, 2))(conv2)\n",
    "    \n",
    "    conv3 = Conv2D(256, 3, activation = None, padding = 'same', kernel_initializer = 'he_normal')(pool2)\n",
    "    conv3 = BatchNormalization()(conv3)\n",
    "    conv3 = LeakyReLU(alpha=leakyrelu_alpha)(conv3)\n",
    "    #conv3 = Dropout(dr_rate)(conv3) ###\n",
    "    conv3 = Conv2D(256, 3, activation = None, padding = 'same', kernel_initializer = 'he_normal')(conv3)\n",
    "    conv3 = BatchNormalization()(conv3)\n",
    "    conv3 = LeakyReLU(alpha=leakyrelu_alpha)(conv3)\n",
    "    #conv3 = Dropout(dr_rate)(conv3) ###\n",
    "    pool3 = MaxPooling2D(pool_size=(2, 2))(conv3)\n",
    "    \n",
    "    conv4 = Conv2D(512, 3, activation = None, padding = 'same', kernel_initializer = 'he_normal')(pool3)\n",
    "    conv4 = BatchNormalization()(conv4)\n",
    "    conv4 = LeakyReLU(alpha=leakyrelu_alpha)(conv4)    \n",
    "    #conv4 = Dropout(dr_rate)(conv4) ###\n",
    "    conv4 = Conv2D(512, 3, activation = None, padding = 'same', kernel_initializer = 'he_normal')(conv4)\n",
    "    conv4 = BatchNormalization()(conv4)\n",
    "    conv4 = LeakyReLU(alpha=leakyrelu_alpha)(conv4)\n",
    "    drop4 = Dropout(dr_rate)(conv4) ###\n",
    "    pool4 = MaxPooling2D(pool_size=(2, 2))(conv4)    \n",
    "\n",
    "    conv5 = Conv2D(1024, 3, activation = None, padding = 'same', kernel_initializer = 'he_normal')(pool4)\n",
    "    conv5 = BatchNormalization()(conv5)    \n",
    "    conv5 = LeakyReLU(alpha=leakyrelu_alpha)(conv5)\n",
    "    #conv5 = Dropout(dr_rate)(conv5) ###\n",
    "    conv5 = Conv2D(1024, 3, activation = None, padding = 'same', kernel_initializer = 'he_normal')(conv5)\n",
    "    conv5 = BatchNormalization()(conv5)\n",
    "    drop5 = LeakyReLU(alpha=leakyrelu_alpha)(conv5)\n",
    "    #drop5 = Dropout(dr_rate)(conv5) ###\n",
    "\n",
    "    up6 = Conv2D(512, 2, activation = None, padding = 'same', kernel_initializer = 'he_normal')(UpSampling2D(size = (2,2))(drop5))\n",
    "    up6 = LeakyReLU(alpha=leakyrelu_alpha)(up6)\n",
    "    merge6 = concatenate([drop4,up6], axis = 3)\n",
    "    conv6 = Conv2D(512, 3, activation = None, padding = 'same', kernel_initializer = 'he_normal')(merge6)\n",
    "    conv6 = BatchNormalization()(conv6)\n",
    "    conv6 = LeakyReLU(alpha=leakyrelu_alpha)(conv6)\n",
    "    #conv6 = Dropout(dr_rate)(conv6) ###\n",
    "    conv6 = Conv2D(512, 3, activation = None, padding = 'same', kernel_initializer = 'he_normal')(conv6)\n",
    "    conv6 = BatchNormalization()(conv6)\n",
    "    conv6 = LeakyReLU(alpha=leakyrelu_alpha)(conv6)    \n",
    "    #conv6 = Dropout(dr_rate)(conv6) ###   \n",
    "\n",
    "    up7 = Conv2D(256, 2, activation = None, padding = 'same', kernel_initializer = 'he_normal')(UpSampling2D(size = (2,2))(conv6))\n",
    "    up7 = BatchNormalization()(up7)    \n",
    "    up7 = LeakyReLU(alpha=leakyrelu_alpha)(up7)\n",
    "    up7 = Dropout(dr_rate)(up7) ###\n",
    "    merge7 = concatenate([conv3,up7], axis = 3)\n",
    "    conv7 = Conv2D(256, 3, activation = None, padding = 'same', kernel_initializer = 'he_normal')(merge7)\n",
    "    conv7 = BatchNormalization()(conv7)    \n",
    "    conv7 = LeakyReLU(alpha=leakyrelu_alpha)(conv7)    \n",
    "    #conv7 = Dropout(dr_rate)(conv7) ###\n",
    "    conv7 = Conv2D(256, 3, activation = None, padding = 'same', kernel_initializer = 'he_normal')(conv7)\n",
    "    conv7 = BatchNormalization()(conv7)\n",
    "    conv7 = LeakyReLU(alpha=leakyrelu_alpha)(conv7)\n",
    "    #conv7 = Dropout(dr_rate)(conv7) ###   \n",
    "\n",
    "    up8 = Conv2D(128, 2, activation = None, padding = 'same', kernel_initializer = 'he_normal')(UpSampling2D(size = (2,2))(conv7))\n",
    "    up8 = BatchNormalization()(up8)\n",
    "    up8 = LeakyReLU(alpha=0.3)(up8)\n",
    "    merge8 = concatenate([conv2,up8], axis = 3)\n",
    "    conv8 = Conv2D(128, 3, activation = None, padding = 'same', kernel_initializer = 'he_normal')(merge8)\n",
    "    conv8 = BatchNormalization()(conv8)\n",
    "    conv8 = LeakyReLU(alpha=0.3)(conv8)\n",
    "    #conv8 = Dropout(dr_rate)(conv8) ###\n",
    "    conv8 = Conv2D(128, 3, activation = None, padding = 'same', kernel_initializer = 'he_normal')(conv8)\n",
    "    conv8 = BatchNormalization()(conv8)    \n",
    "    conv8 = LeakyReLU(alpha=0.3)(conv8)    \n",
    "    #conv8 = Dropout(dr_rate)(conv8) ###    \n",
    "\n",
    "    up9 = Conv2D(64, 2, activation = None, padding = 'same', kernel_initializer = 'he_normal')(UpSampling2D(size = (2,2))(conv8))\n",
    "    up9 = BatchNormalization()(up9)\n",
    "    up9 = LeakyReLU(alpha=leakyrelu_alpha)(up9)\n",
    "    up9 = Dropout(dr_rate)(up9) ###\n",
    "    merge9 = concatenate([conv1,up9], axis = 3)\n",
    "    conv9 = Conv2D(64, 3, activation = None, padding = 'same', kernel_initializer = 'he_normal')(merge9)\n",
    "    conv9 = BatchNormalization()(conv9)\n",
    "    conv9 = LeakyReLU(alpha=leakyrelu_alpha)(conv9)    \n",
    "    #conv9 = Dropout(dr_rate)(conv9) ###\n",
    "    conv9 = Conv2D(64, 3, activation = None, padding = 'same', kernel_initializer = 'he_normal')(conv9)\n",
    "    conv9 = BatchNormalization()(conv9)    \n",
    "    conv9 = LeakyReLU(alpha=leakyrelu_alpha)(conv9)    \n",
    "    #conv9 = Dropout(dr_rate)(conv9) ###\n",
    "    conv9 = Conv2D(2, 3, activation = None, padding = 'same', kernel_initializer = 'he_normal')(conv9)\n",
    "    conv9 = BatchNormalization()(conv9)\n",
    "    conv9 = LeakyReLU(alpha=leakyrelu_alpha)(conv9)    \n",
    "    #conv9 = Dropout(dr_rate)(conv9) ###\n",
    "    conv10 = Conv2D(8, 1, activation='softmax')(conv9)\n",
    "    \n",
    "    model = Model(inputs=inputs, outputs=conv10)\n",
    "    # creat our Dise_lose\n",
    "    def Dise_lose(y, y_pred):\n",
    "        y_true_f = K.flatten(y)\n",
    "        y_pred_f = K.flatten(y_pred)\n",
    "        intersection = K.sum(y_true_f * y_pred_f)\n",
    "        dice = (2. * intersection ) / (K.sum(y_true_f) + K.sum(y_pred_f))\n",
    "        return -dice\n",
    "    # compiles the model with the Dise_lose\n",
    "    model.compile(optimizer=Adam(learning_rate=1e-2), loss=Dise_lose)\n",
    "\n",
    "    if (pretrained_weights):\n",
    "        model.load_weights(pretrained_weights)\n",
    "\n",
    "    return model\n",
    "\n",
    "model = unet()\n",
    "model.summary()"
   ]
  },
  {
   "cell_type": "code",
   "execution_count": 11,
   "id": "b435fda7",
   "metadata": {},
   "outputs": [],
   "source": [
    "class testgenerator(Sequence):\n",
    "\n",
    "    def __init__(self, x_set, y_set, batch_size):\n",
    "        self.x, self.y = x_set, y_set\n",
    "        self.batch_size = batch_size\n",
    "\n",
    "    def __len__(self):\n",
    "        return math.ceil(len(self.x) / self.batch_size)\n",
    "\n",
    "    def __getitem__(self, idx):\n",
    "        #idx=random.randint(0,len(self.x)-1-batch_size)\n",
    "        batch_x = self.x[idx * self.batch_size:(idx + 1) *\n",
    "        self.batch_size]\n",
    "        batch_y = self.y[idx * self.batch_size:(idx + 1) *\n",
    "        self.batch_size]\n",
    "\n",
    "        return np.array(batch_x),np.array(batch_y)"
   ]
  },
  {
   "cell_type": "code",
   "execution_count": 14,
   "id": "7b17bbfe",
   "metadata": {},
   "outputs": [],
   "source": [
    "batch_size=8\n",
    "train_data_gen = testgenerator(train_data[0],train_data[1],batch_size)\n"
   ]
  },
  {
   "cell_type": "code",
   "execution_count": 15,
   "id": "9c96d9d5",
   "metadata": {
    "scrolled": true
   },
   "outputs": [
    {
     "name": "stdout",
     "output_type": "stream",
     "text": [
      "Epoch 1/2\n"
     ]
    },
    {
     "ename": "ValueError",
     "evalue": "in user code:\n\n    File \"C:\\Users\\mikke\\anaconda3\\lib\\site-packages\\keras\\engine\\training.py\", line 1160, in train_function  *\n        return step_function(self, iterator)\n    File \"C:\\Users\\mikke\\anaconda3\\lib\\site-packages\\keras\\engine\\training.py\", line 1146, in step_function  **\n        outputs = model.distribute_strategy.run(run_step, args=(data,))\n    File \"C:\\Users\\mikke\\anaconda3\\lib\\site-packages\\keras\\engine\\training.py\", line 1135, in run_step  **\n        outputs = model.train_step(data)\n    File \"C:\\Users\\mikke\\anaconda3\\lib\\site-packages\\keras\\engine\\training.py\", line 998, in train_step\n        return self.compute_metrics(x, y, y_pred, sample_weight)\n    File \"C:\\Users\\mikke\\anaconda3\\lib\\site-packages\\keras\\engine\\training.py\", line 1092, in compute_metrics\n        self.compiled_metrics.update_state(y, y_pred, sample_weight)\n    File \"C:\\Users\\mikke\\anaconda3\\lib\\site-packages\\keras\\engine\\compile_utils.py\", line 577, in update_state\n        self.build(y_pred, y_true)\n    File \"C:\\Users\\mikke\\anaconda3\\lib\\site-packages\\keras\\engine\\compile_utils.py\", line 483, in build\n        self._metrics = tf.__internal__.nest.map_structure_up_to(\n    File \"C:\\Users\\mikke\\anaconda3\\lib\\site-packages\\keras\\engine\\compile_utils.py\", line 631, in _get_metric_objects\n        return [self._get_metric_object(m, y_t, y_p) for m in metrics]\n    File \"C:\\Users\\mikke\\anaconda3\\lib\\site-packages\\keras\\engine\\compile_utils.py\", line 631, in <listcomp>\n        return [self._get_metric_object(m, y_t, y_p) for m in metrics]\n    File \"C:\\Users\\mikke\\anaconda3\\lib\\site-packages\\keras\\engine\\compile_utils.py\", line 650, in _get_metric_object\n        metric_obj = metrics_mod.get(metric)\n    File \"C:\\Users\\mikke\\anaconda3\\lib\\site-packages\\keras\\metrics\\__init__.py\", line 181, in get\n        return deserialize(str(identifier))\n    File \"C:\\Users\\mikke\\anaconda3\\lib\\site-packages\\keras\\metrics\\__init__.py\", line 136, in deserialize\n        return deserialize_keras_object(\n    File \"C:\\Users\\mikke\\anaconda3\\lib\\site-packages\\keras\\utils\\generic_utils.py\", line 769, in deserialize_keras_object\n        raise ValueError(\n\n    ValueError: Unknown metric function: loss. Please ensure this object is passed to the `custom_objects` argument. See https://www.tensorflow.org/guide/keras/save_and_serialize#registering_the_custom_object for details.\n",
     "output_type": "error",
     "traceback": [
      "\u001b[1;31m---------------------------------------------------------------------------\u001b[0m",
      "\u001b[1;31mValueError\u001b[0m                                Traceback (most recent call last)",
      "\u001b[1;32m~\\AppData\\Local\\Temp/ipykernel_11032/2389442891.py\u001b[0m in \u001b[0;36m<module>\u001b[1;34m\u001b[0m\n\u001b[1;32m----> 1\u001b[1;33m \u001b[0mhistory\u001b[0m \u001b[1;33m=\u001b[0m \u001b[0mmodel\u001b[0m\u001b[1;33m.\u001b[0m\u001b[0mfit\u001b[0m\u001b[1;33m(\u001b[0m\u001b[0mtrain_data_gen\u001b[0m\u001b[1;33m,\u001b[0m \u001b[0mepochs\u001b[0m\u001b[1;33m=\u001b[0m\u001b[1;36m2\u001b[0m\u001b[1;33m,\u001b[0m\u001b[0msteps_per_epoch\u001b[0m\u001b[1;33m=\u001b[0m\u001b[1;36m20\u001b[0m\u001b[1;33m)\u001b[0m\u001b[1;31m#, steps_per_epoch=5\u001b[0m\u001b[1;33m\u001b[0m\u001b[1;33m\u001b[0m\u001b[0m\n\u001b[0m",
      "\u001b[1;32m~\\anaconda3\\lib\\site-packages\\keras\\utils\\traceback_utils.py\u001b[0m in \u001b[0;36merror_handler\u001b[1;34m(*args, **kwargs)\u001b[0m\n\u001b[0;32m     68\u001b[0m             \u001b[1;31m# To get the full stack trace, call:\u001b[0m\u001b[1;33m\u001b[0m\u001b[1;33m\u001b[0m\u001b[0m\n\u001b[0;32m     69\u001b[0m             \u001b[1;31m# `tf.debugging.disable_traceback_filtering()`\u001b[0m\u001b[1;33m\u001b[0m\u001b[1;33m\u001b[0m\u001b[0m\n\u001b[1;32m---> 70\u001b[1;33m             \u001b[1;32mraise\u001b[0m \u001b[0me\u001b[0m\u001b[1;33m.\u001b[0m\u001b[0mwith_traceback\u001b[0m\u001b[1;33m(\u001b[0m\u001b[0mfiltered_tb\u001b[0m\u001b[1;33m)\u001b[0m \u001b[1;32mfrom\u001b[0m \u001b[1;32mNone\u001b[0m\u001b[1;33m\u001b[0m\u001b[1;33m\u001b[0m\u001b[0m\n\u001b[0m\u001b[0;32m     71\u001b[0m         \u001b[1;32mfinally\u001b[0m\u001b[1;33m:\u001b[0m\u001b[1;33m\u001b[0m\u001b[1;33m\u001b[0m\u001b[0m\n\u001b[0;32m     72\u001b[0m             \u001b[1;32mdel\u001b[0m \u001b[0mfiltered_tb\u001b[0m\u001b[1;33m\u001b[0m\u001b[1;33m\u001b[0m\u001b[0m\n",
      "\u001b[1;32m~\\anaconda3\\lib\\site-packages\\keras\\engine\\training.py\u001b[0m in \u001b[0;36mtf__train_function\u001b[1;34m(iterator)\u001b[0m\n\u001b[0;32m     13\u001b[0m                 \u001b[1;32mtry\u001b[0m\u001b[1;33m:\u001b[0m\u001b[1;33m\u001b[0m\u001b[1;33m\u001b[0m\u001b[0m\n\u001b[0;32m     14\u001b[0m                     \u001b[0mdo_return\u001b[0m \u001b[1;33m=\u001b[0m \u001b[1;32mTrue\u001b[0m\u001b[1;33m\u001b[0m\u001b[1;33m\u001b[0m\u001b[0m\n\u001b[1;32m---> 15\u001b[1;33m                     \u001b[0mretval_\u001b[0m \u001b[1;33m=\u001b[0m \u001b[0mag__\u001b[0m\u001b[1;33m.\u001b[0m\u001b[0mconverted_call\u001b[0m\u001b[1;33m(\u001b[0m\u001b[0mag__\u001b[0m\u001b[1;33m.\u001b[0m\u001b[0mld\u001b[0m\u001b[1;33m(\u001b[0m\u001b[0mstep_function\u001b[0m\u001b[1;33m)\u001b[0m\u001b[1;33m,\u001b[0m \u001b[1;33m(\u001b[0m\u001b[0mag__\u001b[0m\u001b[1;33m.\u001b[0m\u001b[0mld\u001b[0m\u001b[1;33m(\u001b[0m\u001b[0mself\u001b[0m\u001b[1;33m)\u001b[0m\u001b[1;33m,\u001b[0m \u001b[0mag__\u001b[0m\u001b[1;33m.\u001b[0m\u001b[0mld\u001b[0m\u001b[1;33m(\u001b[0m\u001b[0miterator\u001b[0m\u001b[1;33m)\u001b[0m\u001b[1;33m)\u001b[0m\u001b[1;33m,\u001b[0m \u001b[1;32mNone\u001b[0m\u001b[1;33m,\u001b[0m \u001b[0mfscope\u001b[0m\u001b[1;33m)\u001b[0m\u001b[1;33m\u001b[0m\u001b[1;33m\u001b[0m\u001b[0m\n\u001b[0m\u001b[0;32m     16\u001b[0m                 \u001b[1;32mexcept\u001b[0m\u001b[1;33m:\u001b[0m\u001b[1;33m\u001b[0m\u001b[1;33m\u001b[0m\u001b[0m\n\u001b[0;32m     17\u001b[0m                     \u001b[0mdo_return\u001b[0m \u001b[1;33m=\u001b[0m \u001b[1;32mFalse\u001b[0m\u001b[1;33m\u001b[0m\u001b[1;33m\u001b[0m\u001b[0m\n",
      "\u001b[1;31mValueError\u001b[0m: in user code:\n\n    File \"C:\\Users\\mikke\\anaconda3\\lib\\site-packages\\keras\\engine\\training.py\", line 1160, in train_function  *\n        return step_function(self, iterator)\n    File \"C:\\Users\\mikke\\anaconda3\\lib\\site-packages\\keras\\engine\\training.py\", line 1146, in step_function  **\n        outputs = model.distribute_strategy.run(run_step, args=(data,))\n    File \"C:\\Users\\mikke\\anaconda3\\lib\\site-packages\\keras\\engine\\training.py\", line 1135, in run_step  **\n        outputs = model.train_step(data)\n    File \"C:\\Users\\mikke\\anaconda3\\lib\\site-packages\\keras\\engine\\training.py\", line 998, in train_step\n        return self.compute_metrics(x, y, y_pred, sample_weight)\n    File \"C:\\Users\\mikke\\anaconda3\\lib\\site-packages\\keras\\engine\\training.py\", line 1092, in compute_metrics\n        self.compiled_metrics.update_state(y, y_pred, sample_weight)\n    File \"C:\\Users\\mikke\\anaconda3\\lib\\site-packages\\keras\\engine\\compile_utils.py\", line 577, in update_state\n        self.build(y_pred, y_true)\n    File \"C:\\Users\\mikke\\anaconda3\\lib\\site-packages\\keras\\engine\\compile_utils.py\", line 483, in build\n        self._metrics = tf.__internal__.nest.map_structure_up_to(\n    File \"C:\\Users\\mikke\\anaconda3\\lib\\site-packages\\keras\\engine\\compile_utils.py\", line 631, in _get_metric_objects\n        return [self._get_metric_object(m, y_t, y_p) for m in metrics]\n    File \"C:\\Users\\mikke\\anaconda3\\lib\\site-packages\\keras\\engine\\compile_utils.py\", line 631, in <listcomp>\n        return [self._get_metric_object(m, y_t, y_p) for m in metrics]\n    File \"C:\\Users\\mikke\\anaconda3\\lib\\site-packages\\keras\\engine\\compile_utils.py\", line 650, in _get_metric_object\n        metric_obj = metrics_mod.get(metric)\n    File \"C:\\Users\\mikke\\anaconda3\\lib\\site-packages\\keras\\metrics\\__init__.py\", line 181, in get\n        return deserialize(str(identifier))\n    File \"C:\\Users\\mikke\\anaconda3\\lib\\site-packages\\keras\\metrics\\__init__.py\", line 136, in deserialize\n        return deserialize_keras_object(\n    File \"C:\\Users\\mikke\\anaconda3\\lib\\site-packages\\keras\\utils\\generic_utils.py\", line 769, in deserialize_keras_object\n        raise ValueError(\n\n    ValueError: Unknown metric function: loss. Please ensure this object is passed to the `custom_objects` argument. See https://www.tensorflow.org/guide/keras/save_and_serialize#registering_the_custom_object for details.\n"
     ]
    }
   ],
   "source": [
    "history = model.fit(train_data_gen, epochs=2,steps_per_epoch=20)#, steps_per_epoch=5"
   ]
  },
  {
   "cell_type": "code",
   "execution_count": 38,
   "id": "dbf0a263",
   "metadata": {},
   "outputs": [],
   "source": [
    "test_data_gen = testgenerator(test_data[0],test_data[1],1)"
   ]
  },
  {
   "cell_type": "code",
   "execution_count": 39,
   "id": "81171529",
   "metadata": {},
   "outputs": [],
   "source": [
    "def dise(y, y_pred):\n",
    "        y_true_f = K.flatten(y)\n",
    "        y_pred_f = K.flatten(y_pred)\n",
    "        intersection = K.sum(y_true_f * y_pred_f)\n",
    "        dice = (2. * intersection ) / (K.sum(y_true_f) + K.sum(y_pred_f))\n",
    "        return -dice"
   ]
  },
  {
   "cell_type": "code",
   "execution_count": 40,
   "id": "d44e6623",
   "metadata": {},
   "outputs": [
    {
     "name": "stdout",
     "output_type": "stream",
     "text": [
      "99/99 [==============================] - 33s 332ms/step\n"
     ]
    }
   ],
   "source": [
    "result = model.predict(test_data_gen)"
   ]
  },
  {
   "cell_type": "code",
   "execution_count": 53,
   "id": "d08a738b",
   "metadata": {},
   "outputs": [
    {
     "data": {
      "text/plain": [
       "array([0., 0., 1., 0., 0., 0., 0., 0.], dtype=float32)"
      ]
     },
     "execution_count": 53,
     "metadata": {},
     "output_type": "execute_result"
    }
   ],
   "source": [
    "result[9][124][122]"
   ]
  },
  {
   "cell_type": "code",
   "execution_count": 42,
   "id": "cd3492ee",
   "metadata": {},
   "outputs": [
    {
     "name": "stdout",
     "output_type": "stream",
     "text": [
      "tf.Tensor(-0.005379789, shape=(), dtype=float32)\n",
      "tf.Tensor(-0.0073242188, shape=(), dtype=float32)\n",
      "tf.Tensor(-0.007461548, shape=(), dtype=float32)\n",
      "tf.Tensor(-0.0064697266, shape=(), dtype=float32)\n",
      "tf.Tensor(-0.0059509277, shape=(), dtype=float32)\n",
      "tf.Tensor(-0.04649353, shape=(), dtype=float32)\n",
      "tf.Tensor(-0.04916067, shape=(), dtype=float32)\n",
      "tf.Tensor(-0.025421143, shape=(), dtype=float32)\n",
      "tf.Tensor(-0.022628784, shape=(), dtype=float32)\n",
      "tf.Tensor(-0.0054779053, shape=(), dtype=float32)\n",
      "tf.Tensor(-0.0076904297, shape=(), dtype=float32)\n",
      "tf.Tensor(-0.01687622, shape=(), dtype=float32)\n",
      "tf.Tensor(-0.029959342, shape=(), dtype=float32)\n",
      "tf.Tensor(-0.044128418, shape=(), dtype=float32)\n",
      "tf.Tensor(-0.034478888, shape=(), dtype=float32)\n",
      "tf.Tensor(-0.02956754, shape=(), dtype=float32)\n",
      "tf.Tensor(-0.048492912, shape=(), dtype=float32)\n",
      "tf.Tensor(-0.056837607, shape=(), dtype=float32)\n",
      "tf.Tensor(-0.051099572, shape=(), dtype=float32)\n",
      "tf.Tensor(-0.037811894, shape=(), dtype=float32)\n",
      "tf.Tensor(-0.028620725, shape=(), dtype=float32)\n",
      "tf.Tensor(-0.03747231, shape=(), dtype=float32)\n",
      "tf.Tensor(-0.007217407, shape=(), dtype=float32)\n",
      "tf.Tensor(-0.00642395, shape=(), dtype=float32)\n",
      "tf.Tensor(-0.02387645, shape=(), dtype=float32)\n",
      "tf.Tensor(-0.006286621, shape=(), dtype=float32)\n",
      "tf.Tensor(-0.006729126, shape=(), dtype=float32)\n",
      "tf.Tensor(-0.032165527, shape=(), dtype=float32)\n",
      "tf.Tensor(-0.0059814453, shape=(), dtype=float32)\n",
      "tf.Tensor(-0.045913696, shape=(), dtype=float32)\n",
      "tf.Tensor(-0.0059051514, shape=(), dtype=float32)\n",
      "tf.Tensor(-0.035964966, shape=(), dtype=float32)\n",
      "tf.Tensor(-0.007236916, shape=(), dtype=float32)\n",
      "tf.Tensor(-0.040077906, shape=(), dtype=float32)\n",
      "tf.Tensor(-0.050095897, shape=(), dtype=float32)\n",
      "tf.Tensor(-0.020065308, shape=(), dtype=float32)\n",
      "tf.Tensor(-0.026504517, shape=(), dtype=float32)\n",
      "tf.Tensor(-0.029190063, shape=(), dtype=float32)\n",
      "tf.Tensor(-0.028338343, shape=(), dtype=float32)\n",
      "tf.Tensor(-0.006362915, shape=(), dtype=float32)\n",
      "tf.Tensor(-0.0070648193, shape=(), dtype=float32)\n",
      "tf.Tensor(-0.006394067, shape=(), dtype=float32)\n",
      "tf.Tensor(-0.02116394, shape=(), dtype=float32)\n",
      "tf.Tensor(-0.033676147, shape=(), dtype=float32)\n",
      "tf.Tensor(-0.0072505246, shape=(), dtype=float32)\n",
      "tf.Tensor(-0.0073688477, shape=(), dtype=float32)\n",
      "tf.Tensor(-0.006629208, shape=(), dtype=float32)\n",
      "tf.Tensor(-0.018741261, shape=(), dtype=float32)\n",
      "tf.Tensor(-0.027957458, shape=(), dtype=float32)\n",
      "tf.Tensor(-0.038242605, shape=(), dtype=float32)\n",
      "tf.Tensor(-0.023513794, shape=(), dtype=float32)\n",
      "tf.Tensor(-0.023448812, shape=(), dtype=float32)\n",
      "tf.Tensor(-0.011016846, shape=(), dtype=float32)\n",
      "tf.Tensor(-0.007317988, shape=(), dtype=float32)\n",
      "tf.Tensor(-0.06494072, shape=(), dtype=float32)\n",
      "tf.Tensor(-0.031311035, shape=(), dtype=float32)\n",
      "tf.Tensor(-0.04170227, shape=(), dtype=float32)\n",
      "tf.Tensor(-0.042816162, shape=(), dtype=float32)\n",
      "tf.Tensor(-0.008332885, shape=(), dtype=float32)\n",
      "tf.Tensor(-0.013835094, shape=(), dtype=float32)\n",
      "tf.Tensor(-0.038577702, shape=(), dtype=float32)\n",
      "tf.Tensor(-0.027738238, shape=(), dtype=float32)\n",
      "tf.Tensor(-0.030173384, shape=(), dtype=float32)\n",
      "tf.Tensor(-0.015346508, shape=(), dtype=float32)\n",
      "tf.Tensor(-0.057128906, shape=(), dtype=float32)\n",
      "tf.Tensor(-0.0073242188, shape=(), dtype=float32)\n",
      "tf.Tensor(-0.0069274902, shape=(), dtype=float32)\n",
      "tf.Tensor(-0.007217407, shape=(), dtype=float32)\n",
      "tf.Tensor(-0.0066986084, shape=(), dtype=float32)\n",
      "tf.Tensor(-0.0066833496, shape=(), dtype=float32)\n",
      "tf.Tensor(-0.0065612793, shape=(), dtype=float32)\n",
      "tf.Tensor(-0.016296387, shape=(), dtype=float32)\n",
      "tf.Tensor(-0.038330078, shape=(), dtype=float32)\n",
      "tf.Tensor(-0.030654907, shape=(), dtype=float32)\n",
      "tf.Tensor(-0.007497789, shape=(), dtype=float32)\n",
      "tf.Tensor(-0.014852605, shape=(), dtype=float32)\n",
      "tf.Tensor(-0.024740597, shape=(), dtype=float32)\n",
      "tf.Tensor(-0.0074860617, shape=(), dtype=float32)\n",
      "tf.Tensor(-0.0075330758, shape=(), dtype=float32)\n",
      "tf.Tensor(-0.049928933, shape=(), dtype=float32)\n",
      "tf.Tensor(-0.006591797, shape=(), dtype=float32)\n",
      "tf.Tensor(-0.0067596436, shape=(), dtype=float32)\n",
      "tf.Tensor(-0.0069732666, shape=(), dtype=float32)\n",
      "tf.Tensor(-0.0072631836, shape=(), dtype=float32)\n",
      "tf.Tensor(-0.0053253174, shape=(), dtype=float32)\n",
      "tf.Tensor(-0.0078125, shape=(), dtype=float32)\n",
      "tf.Tensor(-0.0066007115, shape=(), dtype=float32)\n",
      "tf.Tensor(-0.007666715, shape=(), dtype=float32)\n",
      "tf.Tensor(-0.018087734, shape=(), dtype=float32)\n",
      "tf.Tensor(-0.006701164, shape=(), dtype=float32)\n",
      "tf.Tensor(-0.043154318, shape=(), dtype=float32)\n",
      "tf.Tensor(-0.020050049, shape=(), dtype=float32)\n",
      "tf.Tensor(-0.0068687084, shape=(), dtype=float32)\n",
      "tf.Tensor(-0.0074817156, shape=(), dtype=float32)\n",
      "tf.Tensor(-0.0107821245, shape=(), dtype=float32)\n",
      "tf.Tensor(-0.012513322, shape=(), dtype=float32)\n",
      "tf.Tensor(-0.012641409, shape=(), dtype=float32)\n",
      "tf.Tensor(-0.025661487, shape=(), dtype=float32)\n",
      "tf.Tensor(-0.019665107, shape=(), dtype=float32)\n"
     ]
    }
   ],
   "source": [
    "for i in range(99):\n",
    "    print(dise(result[i],train_data[1][i]))"
   ]
  },
  {
   "cell_type": "code",
   "execution_count": 43,
   "id": "53031d97",
   "metadata": {},
   "outputs": [
    {
     "name": "stdout",
     "output_type": "stream",
     "text": [
      "(256, 256, 8)\n"
     ]
    }
   ],
   "source": [
    "print(result[0].shape)"
   ]
  },
  {
   "cell_type": "code",
   "execution_count": 44,
   "id": "b5ab3efa",
   "metadata": {},
   "outputs": [
    {
     "data": {
      "text/plain": [
       "<function matplotlib.pyplot.show(close=None, block=None)>"
      ]
     },
     "execution_count": 44,
     "metadata": {},
     "output_type": "execute_result"
    },
    {
     "data": {
      "image/png": "[encoded data removed]",
      "text/plain": [
       "<Figure size 432x288 with 1 Axes>"
      ]
     },
     "metadata": {
      "needs_background": "light"
     },
     "output_type": "display_data"
    }
   ],
   "source": [
    "plt.imshow(tf.argmax(train_data[1][5],axis=-1))\n",
    "plt.show"
   ]
  },
  {
   "cell_type": "code",
   "execution_count": 45,
   "id": "7aa4ae46",
   "metadata": {},
   "outputs": [
    {
     "name": "stdout",
     "output_type": "stream",
     "text": [
      "[[[0. 0. 1. ... 0. 0. 0.]\n",
      "  [0. 0. 1. ... 0. 0. 0.]\n",
      "  [0. 0. 1. ... 0. 0. 0.]\n",
      "  ...\n",
      "  [0. 0. 0. ... 0. 0. 1.]\n",
      "  [0. 0. 0. ... 0. 0. 1.]\n",
      "  [0. 0. 0. ... 0. 0. 1.]]\n",
      "\n",
      " [[0. 0. 1. ... 0. 0. 0.]\n",
      "  [0. 0. 1. ... 0. 0. 0.]\n",
      "  [0. 0. 1. ... 0. 0. 0.]\n",
      "  ...\n",
      "  [0. 0. 0. ... 0. 0. 1.]\n",
      "  [0. 0. 0. ... 0. 0. 1.]\n",
      "  [0. 0. 0. ... 0. 0. 1.]]\n",
      "\n",
      " [[0. 0. 1. ... 0. 0. 0.]\n",
      "  [0. 0. 1. ... 0. 0. 0.]\n",
      "  [0. 0. 1. ... 0. 0. 0.]\n",
      "  ...\n",
      "  [0. 0. 0. ... 0. 0. 1.]\n",
      "  [0. 0. 0. ... 0. 0. 1.]\n",
      "  [0. 0. 0. ... 0. 0. 1.]]\n",
      "\n",
      " ...\n",
      "\n",
      " [[0. 0. 1. ... 0. 0. 0.]\n",
      "  [0. 0. 1. ... 0. 0. 0.]\n",
      "  [0. 0. 1. ... 0. 0. 0.]\n",
      "  ...\n",
      "  [0. 0. 0. ... 0. 0. 1.]\n",
      "  [0. 0. 0. ... 0. 0. 1.]\n",
      "  [0. 0. 0. ... 0. 0. 1.]]\n",
      "\n",
      " [[0. 0. 1. ... 0. 0. 0.]\n",
      "  [0. 0. 1. ... 0. 0. 0.]\n",
      "  [0. 0. 1. ... 0. 0. 0.]\n",
      "  ...\n",
      "  [0. 0. 0. ... 0. 0. 1.]\n",
      "  [0. 0. 0. ... 0. 0. 1.]\n",
      "  [0. 0. 0. ... 0. 0. 1.]]\n",
      "\n",
      " [[0. 0. 1. ... 0. 0. 0.]\n",
      "  [0. 0. 1. ... 0. 0. 0.]\n",
      "  [0. 0. 1. ... 0. 0. 0.]\n",
      "  ...\n",
      "  [0. 0. 0. ... 0. 0. 1.]\n",
      "  [0. 0. 0. ... 0. 0. 1.]\n",
      "  [0. 0. 0. ... 0. 0. 1.]]]\n"
     ]
    }
   ],
   "source": [
    "print(result[5])"
   ]
  },
  {
   "cell_type": "code",
   "execution_count": 46,
   "id": "4d148239",
   "metadata": {},
   "outputs": [
    {
     "name": "stdout",
     "output_type": "stream",
     "text": [
      "tf.Tensor(\n",
      "[[2 2 2 ... 7 7 7]\n",
      " [2 2 2 ... 7 7 7]\n",
      " [2 2 2 ... 7 7 7]\n",
      " ...\n",
      " [2 2 2 ... 7 7 7]\n",
      " [2 2 2 ... 7 7 7]\n",
      " [2 2 2 ... 7 7 7]], shape=(256, 256), dtype=int64)\n"
     ]
    }
   ],
   "source": [
    "print(tf.argmax(result[0],axis=-1))"
   ]
  },
  {
   "cell_type": "code",
   "execution_count": null,
   "id": "2bd54588",
   "metadata": {},
   "outputs": [],
   "source": [
    "print(tf.argmax(result[0],axis=-1))"
   ]
  },
  {
   "cell_type": "code",
   "execution_count": 47,
   "id": "c6be183d",
   "metadata": {
    "scrolled": true
   },
   "outputs": [
    {
     "data": {
      "text/plain": [
       "<function matplotlib.pyplot.show(close=None, block=None)>"
      ]
     },
     "execution_count": 47,
     "metadata": {},
     "output_type": "execute_result"
    },
    {
     "data": {
      "image/png": "[encoded data removed]",
      "text/plain": [
       "<Figure size 432x288 with 1 Axes>"
      ]
     },
     "metadata": {
      "needs_background": "light"
     },
     "output_type": "display_data"
    }
   ],
   "source": [
    "plt.imshow(tf.argmax(result[9],axis=-1))\n",
    "plt.show"
   ]
  },
  {
   "cell_type": "code",
   "execution_count": null,
   "id": "15013118",
   "metadata": {},
   "outputs": [],
   "source": []
  }
 ],
 "metadata": {
  "kernelspec": {
   "display_name": "Python 3 (ipykernel)",
   "language": "python",
   "name": "python3"
  },
  "language_info": {
   "codemirror_mode": {
    "name": "ipython",
    "version": 3
   },
   "file_extension": ".py",
   "mimetype": "text/x-python",
   "name": "python",
   "nbconvert_exporter": "python",
   "pygments_lexer": "ipython3",
   "version": "3.9.7"
  }
 },
 "nbformat": 4,
 "nbformat_minor": 5
}
