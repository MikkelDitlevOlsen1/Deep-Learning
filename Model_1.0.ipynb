{
 "cells": [
  {
   "cell_type": "code",
   "execution_count": 1,
   "id": "302fe99d",
   "metadata": {},
   "outputs": [],
   "source": [
    "import tensorflow as tf\n",
    "import torch\n",
    "import random\n",
    "import os\n",
    "import pathlib\n",
    "import time\n",
    "import datetime\n",
    "import numpy as np\n",
    "from matplotlib import pyplot as plt\n",
    "from IPython import display\n",
    "import tensorflow.keras.backend as K\n",
    "from sklearn.preprocessing import OneHotEncoder\n",
    "tf.config.run_functions_eagerly(True)\n"
   ]
  },
  {
   "cell_type": "code",
   "execution_count": 2,
   "id": "cf10b592",
   "metadata": {},
   "outputs": [],
   "source": [
    "#change current directory up to parent, only run 1 time!\n",
    "os.chdir(\"..\")"
   ]
  },
  {
   "cell_type": "code",
   "execution_count": 3,
   "id": "280a6c24",
   "metadata": {},
   "outputs": [],
   "source": [
    "#encoder\n",
    "def downsample(filters, size, apply_batchnorm=True,stride=2):\n",
    "  initializer = tf.random_normal_initializer(0., 0.02)\n",
    "\n",
    "  result = tf.keras.Sequential()\n",
    "  result.add(\n",
    "      tf.keras.layers.Conv2D(filters, size, strides=stride, padding='same',\n",
    "                             kernel_initializer=initializer, use_bias=False))\n",
    "\n",
    "  if apply_batchnorm:\n",
    "    result.add(tf.keras.layers.BatchNormalization())\n",
    "\n",
    "  result.add(tf.keras.layers.LeakyReLU())\n",
    "\n",
    "  return result"
   ]
  },
  {
   "cell_type": "markdown",
   "id": "ff6a1d02",
   "metadata": {},
   "source": [
    "# load data"
   ]
  },
  {
   "cell_type": "code",
   "execution_count": 4,
   "id": "118bad94",
   "metadata": {},
   "outputs": [],
   "source": [
    "def load_data(test=False,Print=False,path=f'{os.path.abspath(os.curdir)}/data/carseg_data/clean_data',nr_img=1498):\n",
    "    train_data_input=[]\n",
    "    train_data_target=[]\n",
    "    \n",
    "    for n in range(nr_img):\n",
    "        n1=n\n",
    "        if test:\n",
    "            n1=f'{n}_a'\n",
    "        try:\n",
    "            test1=np.load(f'{path}/{n1}.npy')\n",
    "            inputs=test1[:3].transpose()\n",
    "            inputs=tf.convert_to_tensor(inputs)\n",
    "            inputs=inputs[tf.newaxis,...]\n",
    "            target=test1[3].transpose()\n",
    "            target=tf.convert_to_tensor(target)\n",
    "            target=target[...,tf.newaxis]\n",
    "            target=target[tf.newaxis,...]\n",
    "\n",
    "            \n",
    "            train_data_input.append(inputs)\n",
    "            train_data_target.append(target)\n",
    "        except:\n",
    "            if Print:\n",
    "                print(f'fil nr {n} mangeler')\n",
    "    return [train_data_input,train_data_target]"
   ]
  },
  {
   "cell_type": "code",
   "execution_count": 5,
   "id": "cc5e3df0",
   "metadata": {},
   "outputs": [],
   "source": [
    "test_data=load_data(test=True)\n",
    "train_data=load_data()"
   ]
  },
  {
   "cell_type": "code",
   "execution_count": 6,
   "id": "fbf9a843",
   "metadata": {},
   "outputs": [
    {
     "name": "stdout",
     "output_type": "stream",
     "text": [
      "test_data:\n",
      "Number of training img 99\n",
      "target sahpe (1, 256, 256, 1)\n",
      "input shape (1, 256, 256, 3)\n",
      "train_data:\n",
      "Number of training img 1128\n",
      "target sahpe (1, 256, 256, 1)\n",
      "input shape (1, 256, 256, 3)\n"
     ]
    }
   ],
   "source": [
    "def Get_stats(data):\n",
    "    print(f'Number of training img {len(data[0])}')\n",
    "    print(f'target sahpe {data[1][0].shape}')\n",
    "    print(f'input shape {data[0][0].shape}')\n",
    "\n",
    "print('test_data:')\n",
    "Get_stats(test_data)\n",
    "print('train_data:')\n",
    "Get_stats(train_data)"
   ]
  },
  {
   "cell_type": "markdown",
   "id": "970a1551",
   "metadata": {},
   "source": [
    "#  one hot encoder\n"
   ]
  },
  {
   "cell_type": "code",
   "execution_count": 7,
   "id": "09055969",
   "metadata": {},
   "outputs": [],
   "source": [
    "depth = 8"
   ]
  },
  {
   "cell_type": "code",
   "execution_count": null,
   "id": "1449a7a5",
   "metadata": {},
   "outputs": [],
   "source": [
    "test_data2=tf.one_hot(test_data[1], depth)[:,:,:,:,0,:]\n",
    "train_data2=tf.one_hot(train_data[1], depth)[:,:,:,:,0,:]"
   ]
  },
  {
   "cell_type": "code",
   "execution_count": null,
   "id": "ff2747de",
   "metadata": {},
   "outputs": [],
   "source": [
    "test_data[1]=test_data2\n",
    "train_data[1]=train_data2"
   ]
  },
  {
   "cell_type": "code",
   "execution_count": null,
   "id": "94c92332",
   "metadata": {},
   "outputs": [],
   "source": [
    "print('test_data:')\n",
    "Get_stats(test_data)\n",
    "print('train_data:')\n",
    "Get_stats(train_data)"
   ]
  },
  {
   "cell_type": "code",
   "execution_count": null,
   "id": "232f9b2f",
   "metadata": {},
   "outputs": [],
   "source": [
    "example_input, example_target=test_data[0][0],test_data[1][0]"
   ]
  },
  {
   "cell_type": "code",
   "execution_count": null,
   "id": "b3938650",
   "metadata": {},
   "outputs": [],
   "source": [
    "down_model = downsample(3, 4)"
   ]
  },
  {
   "cell_type": "code",
   "execution_count": null,
   "id": "17aee551",
   "metadata": {},
   "outputs": [],
   "source": [
    "#decoder\n",
    "def upsample(filters, size, apply_dropout=False,stride=2):\n",
    "  initializer = tf.random_normal_initializer(0., 0.02)\n",
    "\n",
    "  result = tf.keras.Sequential()\n",
    "  result.add(\n",
    "    tf.keras.layers.Conv2DTranspose(filters, size, strides=stride,\n",
    "                                    padding='same',\n",
    "                                    kernel_initializer=initializer,\n",
    "                                    use_bias=False))\n",
    "\n",
    "  result.add(tf.keras.layers.BatchNormalization())\n",
    "\n",
    "  if apply_dropout:\n",
    "      result.add(tf.keras.layers.Dropout(0.5))\n",
    "\n",
    "  result.add(tf.keras.layers.ReLU())\n",
    "\n",
    "  return result"
   ]
  },
  {
   "cell_type": "code",
   "execution_count": null,
   "id": "6b034786",
   "metadata": {},
   "outputs": [],
   "source": [
    "up_model = upsample(3, 4)\n",
    "print(up_model)"
   ]
  },
  {
   "cell_type": "code",
   "execution_count": null,
   "id": "17327eee",
   "metadata": {},
   "outputs": [],
   "source": [
    "def Generator1():\n",
    "  inputs = tf.keras.layers.Input(shape=[256, 256, 3])\n",
    "\n",
    "  down_stack = [\n",
    "    downsample(8, (3,3), apply_batchnorm=False,stride=1),  # (batch_size, 256, 128, 64)\n",
    "    downsample(8, (3,3),stride=1),\n",
    "    downsample(8, (3,3)),# (batch_size, 128, 64, 128)\n",
    "    downsample(16, (3,3),stride=1),  # (batch_size, 128, 32, 256)\n",
    "    downsample(16, (3,3),stride=1),  # (batch_size, 128/2, 16, 512)\n",
    "    downsample(16, (3,3)),  # (batch_size, 8, 64, 512)\n",
    "    downsample(32, (3,3),stride=1),  # (batch_size, 64, 32, 256)\n",
    "    downsample(32, (3,3),stride=1),  # (batch_size, 64, 16, 512)\n",
    "    downsample(32, (3,3)),  # (batch_size, 32, 8, 512)\n",
    "      \n",
    "    downsample(64, (3,3),stride=1),\n",
    "    downsample(64, (3,3),stride=1),\n",
    "    downsample(64, (3,3)),\n",
    "      \n",
    "    downsample(128, (3,3),stride=1),  # (batch_size, 16, 16, 256)\n",
    "    downsample(128, (3,3),stride=1),  # (batch_size, 16, 16, 512)\n",
    "    downsample(8, (3,3),stride=1),  # (batch_size, 16, 16, 512)\n",
    "      \n",
    "  ]\n",
    "\n",
    "  up_stack = [\n",
    "    upsample(32, (2,2),stride=2),  # (batch_size, 16, 16, 32)\n",
    "    downsample(32, (3,3),stride=1),  # (batch_size, 16, 16, 1024)\n",
    "    downsample(32, (3,3),stride=1),  # (batch_size, 16, 16, 1024)\n",
    "\n",
    "    \n",
    "    upsample(32, (2,2),stride=2),  # (batch_size, 8, 8, 1024)\n",
    "    downsample(32, (3,3),stride=1),  # (batch_size, 16, 16, 1024)\n",
    "    downsample(32, (3,3),stride=1),  # (batch_size, 32, 32, 512)\n",
    "      \n",
    "    upsample(16, (2,2),stride=2),  # (batch_size, 8, 8, 1024)\n",
    "    downsample(16, (3,3),stride=1),  # (batch_size, 16, 16, 1024)\n",
    "    downsample(16, (3,3),stride=1),  # (batch_size, 32, 32, 512)\n",
    "    \n",
    "    upsample(8, (2,2),stride=2),  # (batch_size, 8, 8, 1024)\n",
    "    downsample(8, (3,3),stride=1),  # (batch_size, 16, 16, 1024)\n",
    "    downsample(8, (3,3),stride=1),  # (batch_size, 32, 32, 512)\n",
    "  ]\n",
    "\n",
    "  initializer = tf.random_normal_initializer(0., 0.02)\n",
    "  OUTPUT_CHANNELS=8\n",
    "  softlayer=tf.keras.layers.Softmax(axis = -1)\n",
    "\n",
    "\n",
    "  x = inputs\n",
    "    \n",
    "  x=tf.keras.layers.Dropout(0.5)(x)\n",
    "\n",
    "\n",
    "  # Downsampling through the model\n",
    "  skips = []\n",
    "  for down in down_stack:\n",
    "    x = down(x)\n",
    "    skips.append(x)\n",
    "\n",
    "  skips = reversed(skips[:-1])\n",
    "  print(skips)\n",
    "  x=tf.keras.layers.Flatten()(x)\n",
    "  x=tf.keras.layers.Dropout(0.5)(x)\n",
    "  x=tf.keras.layers.Dense(256)(x)\n",
    "  x=tf.keras.layers.Dropout(0.5)(x)\n",
    "  x=tf.keras.layers.Dense(512)(x)\n",
    "  x=tf.keras.layers.Reshape((16,16,2))(x)\n",
    "  \n",
    "  \n",
    "  # Upsampling and establishing the skip connections\n",
    "  n=0\n",
    "  conc=[1,4,7,10,13]\n",
    "  for up, skip in zip(up_stack, skips):\n",
    "    n+=1\n",
    "    if n in conc:\n",
    "        print(\"hey\")\n",
    "        x = tf.keras.layers.Concatenate()([x, skip])\n",
    "    x = up(x)\n",
    "  x = softlayer(x)\n",
    "  return tf.keras.Model(inputs=inputs, outputs=x)"
   ]
  },
  {
   "cell_type": "code",
   "execution_count": null,
   "id": "3217aafd",
   "metadata": {},
   "outputs": [],
   "source": [
    "from keras.models import Model, load_model\n",
    "from keras.layers import Input, BatchNormalization, Dropout, Flatten, Reshape, Dense\n",
    "from keras.layers.convolutional import Conv2D, Conv2DTranspose\n",
    "from keras.layers.pooling import MaxPooling2D\n",
    "from keras.layers.merge import concatenate\n",
    "\n",
    "def generator2():\n",
    "    # Build U-Net model\n",
    "    out_depth=8\n",
    "    fcl_size=256\n",
    "    inputs = Input(shape=[256, 256, 3])\n",
    "    s = BatchNormalization()(inputs) # we can learn the normalization step\n",
    "    s = Dropout(0.5)(s)\n",
    "\n",
    "    c1 = Conv2D(8, (3, 3), activation='relu', padding='same') (s)\n",
    "    c1 = Conv2D(8, (3, 3), activation='relu', padding='same') (c1)\n",
    "    p1 = MaxPooling2D((2, 2)) (c1)\n",
    "\n",
    "    c2 = Conv2D(16, (3, 3), activation='relu', padding='same') (p1)\n",
    "    c2 = Conv2D(16, (3, 3), activation='relu', padding='same') (c2)\n",
    "    p2 = MaxPooling2D((2, 2)) (c2)\n",
    "\n",
    "    c3 = Conv2D(32, (3, 3), activation='relu', padding='same') (p2)\n",
    "    c3 = Conv2D(32, (3, 3), activation='relu', padding='same') (c3)\n",
    "    p3 = MaxPooling2D((2, 2)) (c3)\n",
    "\n",
    "    c4 = Conv2D(64, (3, 3), activation='relu', padding='same') (p3)\n",
    "    c4 = Conv2D(64, (3, 3), activation='relu', padding='same') (c4)\n",
    "    p4 = MaxPooling2D(pool_size=(2, 2)) (c4)\n",
    "\n",
    "\n",
    "    c5 = Conv2D(128, (3, 3), activation='relu', padding='same') (p4)\n",
    "    c5 = Conv2D(128, (3, 3), activation='relu', padding='same') (c5)\n",
    "\n",
    "    c5_min = Conv2D(out_depth, (3, 3), activation='relu', padding='same') (c5)\n",
    "\n",
    "    # fully connected component for spatial sensitivity\n",
    "    flat_c5 = Dropout(0.5)(Flatten()(c5_min))\n",
    "    fcl_c5 = Dropout(0.5)(Dense(fcl_size)(flat_c5))\n",
    "    out_shape = c5._keras_shape[1:3]+(out_depth,)\n",
    "    fcl_c5_imgflat = Dense(np.prod(out_shape))(fcl_c5)\n",
    "    fcl_img = Reshape(out_shape)(fcl_c5_imgflat)\n",
    "    new_c5 = concatenate([c5, fcl_img])\n",
    "\n",
    "    u6 = Conv2DTranspose(64, (2, 2), strides=(2, 2), padding='same') (new_c5)\n",
    "    u6 = concatenate([u6, c4])\n",
    "    c6 = Conv2D(64, (3, 3), activation='relu', padding='same') (u6)\n",
    "    c6 = Conv2D(64, (3, 3), activation='relu', padding='same') (c6)\n",
    "\n",
    "    u7 = Conv2DTranspose(32, (2, 2), strides=(2, 2), padding='same') (c6)\n",
    "    u7 = concatenate([u7, c3])\n",
    "    c7 = Conv2D(32, (3, 3), activation='relu', padding='same') (u7)\n",
    "    c7 = Conv2D(32, (3, 3), activation='relu', padding='same') (c7)\n",
    "\n",
    "    u8 = Conv2DTranspose(16, (2, 2), strides=(2, 2), padding='same') (c7)\n",
    "    u8 = concatenate([u8, c2])\n",
    "    c8 = Conv2D(16, (3, 3), activation='relu', padding='same') (u8)\n",
    "    c8 = Conv2D(16, (3, 3), activation='relu', padding='same') (c8)\n",
    "\n",
    "    u9 = Conv2DTranspose(8, (2, 2), strides=(2, 2), padding='same') (c8)\n",
    "    u9 = concatenate([u9, c1], axis=3)\n",
    "    c9 = Conv2D(8, (3, 3), activation='relu', padding='same') (u9)\n",
    "    c9 = Conv2D(8, (3, 3), activation='relu', padding='same') (c9)\n",
    "\n",
    "    outputs = Conv2D(1, (1, 1), activation='sigmoid') (c9)\n",
    "\n",
    "    model = Model(inputs=[inputs], outputs=[outputs])\n",
    "    model.summary()"
   ]
  },
  {
   "cell_type": "code",
   "execution_count": null,
   "id": "f8458104",
   "metadata": {},
   "outputs": [],
   "source": [
    "generator2()"
   ]
  },
  {
   "cell_type": "code",
   "execution_count": null,
   "id": "2aae7bad",
   "metadata": {},
   "outputs": [],
   "source": [
    "generator1 = Generator1()\n",
    "tf.keras.utils.plot_model(generator1, show_shapes=True, dpi=64)"
   ]
  },
  {
   "cell_type": "code",
   "execution_count": null,
   "id": "e540e53f",
   "metadata": {},
   "outputs": [],
   "source": [
    "def Generator():\n",
    "  inputs = tf.keras.layers.Input(shape=[256, 256, 3])\n",
    "\n",
    "  down_stack = [\n",
    "    downsample(64, 2, apply_batchnorm=False),  # (batch_size, 128, 128, 64)\n",
    "    downsample(128, 3),\n",
    "    downsample(128, 2),# (batch_size, 64, 64, 128)\n",
    "    downsample(256, 2),  # (batch_size, 32, 32, 256)\n",
    "    downsample(512, 3),  # (batch_size, 16, 16, 512)\n",
    "    downsample(512, 3),  # (batch_size, 8, 8, 512)\n",
    "    downsample(512, 2),  # (batch_size, 4, 4, 512)\n",
    "    #downsample(512, 7),  # (batch_size, 2, 2, 512)\n",
    "    #downsample(512, 7),  # (batch_size, 1, 1, 512)\n",
    "  ]\n",
    "\n",
    "  up_stack = [\n",
    "    #upsample(512, 7, apply_dropout=True),  # (batch_size, 2, 2, 1024)\n",
    "    #upsample(512, 7, apply_dropout=True),  # (batch_size, 4, 4, 1024)\n",
    "    upsample(512, 3, apply_dropout=True),  # (batch_size, 8, 8, 1024)\n",
    "    upsample(512, 2),  # (batch_size, 16, 16, 1024)\n",
    "    upsample(256, 2),  # (batch_size, 32, 32, 512)\n",
    "    upsample(128, 3),\n",
    "    upsample(128, 2), # (batch_size, 64, 64, 256)\n",
    "    upsample(64, 2),  # (batch_size, 128, 128, 128)\n",
    "  ]\n",
    "\n",
    "  initializer = tf.random_normal_initializer(0., 0.02)\n",
    "  OUTPUT_CHANNELS=8\n",
    "  last = tf.keras.layers.Conv2DTranspose(OUTPUT_CHANNELS, 4,\n",
    "                                         strides=2,\n",
    "                                         padding='same',\n",
    "                                         kernel_initializer=initializer,\n",
    "                                         activation='tanh')  # (batch_size, 256, 256, 3)\n",
    "  softlayer=tf.keras.layers.Softmax(axis = -1)\n",
    "\n",
    "\n",
    "  x = inputs\n",
    "\n",
    "  # Downsampling through the model\n",
    "  skips = []\n",
    "  for down in down_stack:\n",
    "    x = down(x)\n",
    "    skips.append(x)\n",
    "\n",
    "  skips = reversed(skips[:-1])\n",
    "\n",
    "  # Upsampling and establishing the skip connections\n",
    "  for up, skip in zip(up_stack, skips):\n",
    "    x = up(x)\n",
    "    x = tf.keras.layers.Concatenate()([x, skip])\n",
    "\n",
    "  x = last(x)\n",
    "  \n",
    "  x = softlayer(x)\n",
    "  #x = tf.math.argmax(x, axis = -1)[...,tf.newaxis]\n",
    "  return tf.keras.Model(inputs=inputs, outputs=x)"
   ]
  },
  {
   "cell_type": "code",
   "execution_count": null,
   "id": "37e9451b",
   "metadata": {},
   "outputs": [],
   "source": [
    "generator = Generator1()\n",
    "tf.keras.utils.plot_model(generator, show_shapes=True, dpi=64)"
   ]
  },
  {
   "cell_type": "code",
   "execution_count": null,
   "id": "e071fcab",
   "metadata": {
    "scrolled": true
   },
   "outputs": [],
   "source": [
    "#print(test_data[0][0].shape)\n",
    "gen_output = generator(test_data[0][0], training=False)\n",
    "#print(gen_output.shape)\n",
    "#gen_output = tf.math.argmax(gen_output, axis = -1)[...,tf.newaxis]\n",
    "#print(gen_output.shape)\n",
    "#plt.imshow(gen_output[0, ...])\n",
    "#print(gen_output)"
   ]
  },
  {
   "cell_type": "markdown",
   "id": "f83f91e4",
   "metadata": {},
   "source": [
    "# loos"
   ]
  },
  {
   "cell_type": "code",
   "execution_count": null,
   "id": "bfb044e3",
   "metadata": {},
   "outputs": [],
   "source": [
    "LAMBDA = 1"
   ]
  },
  {
   "cell_type": "code",
   "execution_count": null,
   "id": "ca097761",
   "metadata": {},
   "outputs": [],
   "source": [
    "loss_object = tf.keras.losses.BinaryCrossentropy(from_logits=True)"
   ]
  },
  {
   "cell_type": "code",
   "execution_count": null,
   "id": "49f5d0e6",
   "metadata": {},
   "outputs": [],
   "source": [
    "def dice_coef(y_true, y_pred, smooth=0):        \n",
    "    y_true_f = K.flatten(y_true)\n",
    "    y_pred_f = K.flatten(y_pred)\n",
    "    intersection = K.sum(y_true_f * y_pred_f)\n",
    "    dice = (2. * intersection + smooth) / (K.sum(y_true_f) + K.sum(y_pred_f) + smooth)\n",
    "    return dice\n"
   ]
  },
  {
   "cell_type": "code",
   "execution_count": null,
   "id": "673a06ee",
   "metadata": {},
   "outputs": [],
   "source": [
    "def generator_loss(disc_generated_output, gen_output, target,gansco=0 ):\n",
    "  gan_loss = loss_object(tf.ones_like(disc_generated_output), disc_generated_output)\n",
    "\n",
    "  # Mean absolute error\n",
    "  l1_loss=1-dice_coef(target,gen_output)\n",
    "\n",
    "  total_gen_loss = gan_loss*gansco + (LAMBDA * l1_loss)\n",
    "\n",
    "  return total_gen_loss, gan_loss, l1_loss"
   ]
  },
  {
   "cell_type": "code",
   "execution_count": null,
   "id": "732bf488",
   "metadata": {},
   "outputs": [],
   "source": []
  },
  {
   "cell_type": "code",
   "execution_count": null,
   "id": "e279ff8c",
   "metadata": {},
   "outputs": [],
   "source": [
    "def generator_loss1(disc_generated_output, gen_output,  target):\n",
    "  gan_loss = loss_object(tf.ones_like(disc_generated_output), disc_generated_output)\n",
    "  y_true_f = K.flatten(target)\n",
    "  y_pred_f = K.flatten(gen_output)\n",
    "    \n",
    "  l111=(y_true_f) - (y_pred_f)\n",
    "  l11=tf.abs(l111)\n",
    "  l1_loss = tf.reduce_mean(l11)\n",
    "\n",
    "  total_gen_loss = gan_loss + (LAMBDA * l1_loss)\n",
    "\n",
    "  return total_gen_loss, gan_loss, l1_loss"
   ]
  },
  {
   "cell_type": "code",
   "execution_count": null,
   "id": "ee40a5c3",
   "metadata": {},
   "outputs": [],
   "source": [
    "def Discriminator():\n",
    "  initializer = tf.random_normal_initializer(0., 0.02)\n",
    "\n",
    "  inp = tf.keras.layers.Input(shape=[256, 256, 3], name='input_image')\n",
    "  \n",
    "  tar = tf.keras.layers.Input(shape=[256, 256, 8], name='target_image')\n",
    "  \n",
    "  x = tf.keras.layers.concatenate([inp, tar])  # (batch_size, 256, 256, channels*2)\n",
    " \n",
    "  down1 = downsample(64, 4, False)(x)  # (batch_size, 128, 128, 64)\n",
    "  down2 = downsample(128, 4)(down1)  # (batch_size, 64, 64, 128)\n",
    "  down3 = downsample(256, 4)(down2)  # (batch_size, 32, 32, 256)\n",
    "\n",
    "  zero_pad1 = tf.keras.layers.ZeroPadding2D()(down3)  # (batch_size, 34, 34, 256)\n",
    "  conv = tf.keras.layers.Conv2D(512, 4, strides=1,\n",
    "                                kernel_initializer=initializer,\n",
    "                                use_bias=False)(zero_pad1)  # (batch_size, 31, 31, 512)\n",
    "\n",
    "  batchnorm1 = tf.keras.layers.BatchNormalization()(conv)\n",
    "\n",
    "  leaky_relu = tf.keras.layers.LeakyReLU()(batchnorm1)\n",
    "\n",
    "  zero_pad2 = tf.keras.layers.ZeroPadding2D()(leaky_relu)  # (batch_size, 33, 33, 512)\n",
    "\n",
    "  last = tf.keras.layers.Conv2D(1, 4, strides=1,\n",
    "                                kernel_initializer=initializer)(zero_pad2)  # (batch_size, 30, 30, 1)\n",
    "\n",
    "  return tf.keras.Model(inputs=[inp, tar], outputs=last)"
   ]
  },
  {
   "cell_type": "code",
   "execution_count": null,
   "id": "ebf81e62",
   "metadata": {},
   "outputs": [],
   "source": [
    "discriminator = Discriminator()\n",
    "tf.keras.utils.plot_model(discriminator, show_shapes=True, dpi=64)"
   ]
  },
  {
   "cell_type": "code",
   "execution_count": null,
   "id": "25db2ea0",
   "metadata": {},
   "outputs": [],
   "source": [
    "def discriminator_loss(disc_real_output, disc_generated_output):\n",
    "\n",
    "\n",
    "  total_disc_loss = -dice_coef(disc_real_output,disc_generated_output)\n",
    "\n",
    "  return total_disc_loss"
   ]
  },
  {
   "cell_type": "code",
   "execution_count": null,
   "id": "cdf87f5b",
   "metadata": {},
   "outputs": [],
   "source": [
    "def discriminator_loss1(disc_real_output, disc_generated_output):\n",
    "  real_loss = loss_object(tf.ones_like(disc_real_output), disc_real_output)\n",
    "\n",
    "  generated_loss = loss_object(tf.zeros_like(disc_generated_output), disc_generated_output)\n",
    "\n",
    "  total_disc_loss = real_loss + generated_loss\n",
    "\n",
    "  return total_disc_loss"
   ]
  },
  {
   "cell_type": "code",
   "execution_count": null,
   "id": "0a8127ba",
   "metadata": {},
   "outputs": [],
   "source": [
    "generator_optimizer = tf.keras.optimizers.Adam(2e-3, beta_1=0.5)\n",
    "discriminator_optimizer = tf.keras.optimizers.Adam(2e-5, beta_1=0.5)"
   ]
  },
  {
   "cell_type": "code",
   "execution_count": null,
   "id": "625767f3",
   "metadata": {},
   "outputs": [],
   "source": [
    "def generate_images(model, test_input, tar):\n",
    "  prediction = model(test_input, training=True)\n",
    "  plt.figure(figsize=(15, 15))\n",
    "  #print(prediction[0])\n",
    "  display_list = [test_input[0], tf.argmax(tar[0],axis=-1),tf.argmax(prediction[0],axis=-1) ]\n",
    "  title = ['Input Image', 'Ground Truth', 'Predicted Image']\n",
    "\n",
    "  for i in range(3):\n",
    "    plt.subplot(1, 3, i+1)\n",
    "    plt.title(title[i])\n",
    "    # Getting the pixel values in the [0, 1] range to plot.\n",
    "    plt.imshow(display_list[i]) #* 0.5 + 0.5)\n",
    "    plt.axis('off')\n",
    "  plt.show()"
   ]
  },
  {
   "cell_type": "code",
   "execution_count": null,
   "id": "73cb16b8",
   "metadata": {},
   "outputs": [],
   "source": [
    "def generate_loses(loses):\n",
    "\n",
    "    plt.show\n",
    "    title = ['gen_total_loss', 'gen_gan_loss', 'gen_l1_loss','disc_loss']\n",
    "\n",
    "    for i in range(4):\n",
    "        plt.subplot(2, 2, i+1)\n",
    "        plt.title(title[i])\n",
    "        plt.plot(loses[1:,i])\n",
    "    plt.show()"
   ]
  },
  {
   "cell_type": "code",
   "execution_count": null,
   "id": "3790dff0",
   "metadata": {},
   "outputs": [],
   "source": [
    "log_dir=\"logs/\"\n",
    "\n",
    "summary_writer = tf.summary.create_file_writer(\n",
    "  log_dir + \"fit/\" + datetime.datetime.now().strftime(\"%Y%m%d-%H%M%S\"))"
   ]
  },
  {
   "cell_type": "code",
   "execution_count": null,
   "id": "68f8f143",
   "metadata": {},
   "outputs": [],
   "source": [
    "@tf.function\n",
    "def train_step(input_image, target, step,unet=True):\n",
    "  with tf.GradientTape() as gen_tape, tf.GradientTape() as disc_tape:\n",
    "    gen_output = generator(input_image, training=True)\n",
    "    #gen_output = tf.math.argmax(gen_output, axis = -1)[...,tf.newaxis]\n",
    "    disc_real_output = discriminator([input_image, target], training=True)\n",
    "    disc_generated_output = discriminator([input_image, gen_output], training=True)\n",
    "\n",
    "    gen_total_loss, gen_gan_loss, gen_l1_loss = generator_loss(disc_generated_output, gen_output, target)\n",
    "    disc_loss = discriminator_loss(disc_real_output, disc_generated_output)\n",
    "\n",
    "  generator_gradients = gen_tape.gradient(gen_total_loss,\n",
    "                                          generator.trainable_variables)\n",
    "  #discriminator_gradients = disc_tape.gradient(disc_loss,\n",
    "                                               #discriminator.trainable_variables)\n",
    "\n",
    "  generator_optimizer.apply_gradients(zip(generator_gradients,\n",
    "                                          generator.trainable_variables))\n",
    "  #discriminator_optimizer.apply_gradients(zip(discriminator_gradients,\n",
    "                                              #discriminator.trainable_variables))\n",
    "  losees=np.array([gen_total_loss.numpy(),gen_gan_loss.numpy(),gen_l1_loss.numpy(),disc_loss.numpy()])\n",
    "  with summary_writer.as_default():\n",
    "    tf.summary.scalar('gen_total_loss', gen_total_loss, step=step//1000)\n",
    "    tf.summary.scalar('gen_gan_loss', gen_gan_loss, step=step//1000)\n",
    "    tf.summary.scalar('gen_l1_loss', gen_l1_loss, step=step//1000)\n",
    "    tf.summary.scalar('disc_loss', disc_loss, step=step//1000)\n",
    "  return losees"
   ]
  },
  {
   "cell_type": "code",
   "execution_count": null,
   "id": "b1d2c485",
   "metadata": {},
   "outputs": [],
   "source": [
    "def fit(train_ds, test_ds, steps,batch_size=4):\n",
    "  randomnr=random.randint(0,len(test_ds[0])-1)\n",
    "  example_input, example_target=test_ds[0][randomnr],test_data[1][randomnr]\n",
    "  start = time.time()\n",
    "  losees=np.array([[0,0,0,0]])\n",
    "  for step in range(steps):\n",
    "    r1=random.randint(0,len(train_ds[0])-1)\n",
    "    input_image=train_ds[0][r1]\n",
    "    target=train_ds[1][r1]\n",
    "    for n in range(batch_size-1):  \n",
    "        r2=random.randint(0,len(train_ds[0])-1)\n",
    "        input_image2=train_ds[0][r1]\n",
    "        target2=train_ds[1][r1]\n",
    "        input_image=tf.concat([input_image2,input_image],0)\n",
    "        target=tf.concat([target2,target],0)\n",
    "    \n",
    "    if(step) % 10 == 0:\n",
    "      display.clear_output(wait=True)\n",
    "\n",
    "      if step != 0:\n",
    "        print(f'Time taken for 10 steps: {time.time()-start:.2f} sec\\n')\n",
    "        #print(losees)\n",
    "\n",
    "      start = time.time()\n",
    "\n",
    "      generate_images(generator, example_input, example_target)\n",
    "      generate_loses(losees)\n",
    "      print(f\"Step: {step//1000}0\")\n",
    "    l=train_step(input_image, target, step)\n",
    "    losees=np.append(losees,np.array([l]),axis=0)  \n",
    "      \n",
    "  \n",
    "    # Training step\n",
    "    if (step+1) % 10 == 0:\n",
    "      print('.', end='', flush=True)\n",
    "\n",
    "\n",
    "    # Save (checkpoint) the model every 5k steps\n",
    "    #if (step + 1) % 5000 == 0:\n",
    "      #checkpoint.save(file_prefix=checkpoint_prefix)"
   ]
  },
  {
   "cell_type": "code",
   "execution_count": null,
   "id": "818a27dd",
   "metadata": {},
   "outputs": [],
   "source": [
    "[1,2,3]*[2,2,2]"
   ]
  },
  {
   "cell_type": "code",
   "execution_count": null,
   "id": "ee8ad5ed",
   "metadata": {
    "scrolled": true
   },
   "outputs": [],
   "source": [
    "fit(train_data, test_data, steps=1000)"
   ]
  },
  {
   "cell_type": "code",
   "execution_count": null,
   "id": "50e834ec",
   "metadata": {},
   "outputs": [],
   "source": [
    "c = tf.constant([1.0, 0.0,0.0])\n",
    "d = tf.constant([0.9, 0.3,0.3])\n",
    "1-K.sum(c*d)"
   ]
  }
 ],
 "metadata": {
  "kernelspec": {
   "display_name": "Python 3 (ipykernel)",
   "language": "python",
   "name": "python3"
  },
  "language_info": {
   "codemirror_mode": {
    "name": "ipython",
    "version": 3
   },
   "file_extension": ".py",
   "mimetype": "text/x-python",
   "name": "python",
   "nbconvert_exporter": "python",
   "pygments_lexer": "ipython3",
   "version": "3.9.7"
  }
 },
 "nbformat": 4,
 "nbformat_minor": 5
}
