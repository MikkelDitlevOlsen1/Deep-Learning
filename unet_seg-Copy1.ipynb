{
 "cells": [
  {
   "cell_type": "code",
   "execution_count": 1,
   "metadata": {},
   "outputs": [],
   "source": [
    "import tensorflow as tf \n",
    "import matplotlib.pyplot as plt\n",
    "import seaborn as sns\n",
    "from tensorflow.keras.preprocessing.image import ImageDataGenerator\n",
    "import numpy as np \n",
    "import pandas as pd \n",
    "import os\n",
    "from matplotlib.pyplot import imread\n",
    "from sklearn.model_selection import train_test_split\n",
    "from keras.utils.np_utils import to_categorical   \n",
    "import cv2\n",
    "import gc\n",
    "from tensorflow.keras.layers import Conv2D, BatchNormalization, Activation, MaxPool2D, Conv2DTranspose, Concatenate, Input\n",
    "from tensorflow.keras.models import Model\n",
    "from tensorflow.keras.optimizers import Adam\n",
    "import matplotlib.pyplot as plt \n",
    "from IPython.display import clear_output\n",
    "from tensorflow.keras.layers import Input, Conv2D, BatchNormalization, Activation, MaxPool2D, UpSampling2D, Concatenate\n",
    "from scipy import io\n",
    "from sklearn.preprocessing import LabelEncoder\n",
    "from tqdm import tqdm"
   ]
  },
  {
   "cell_type": "code",
   "execution_count": 10,
   "metadata": {},
   "outputs": [],
   "source": [
    "#change current directory up to parent, only run 1 time!\n",
    "os.chdir(\"..\")"
   ]
  },
  {
   "cell_type": "code",
   "execution_count": 18,
   "metadata": {},
   "outputs": [],
   "source": [
    "def load_data(test=False,Print=False,path=f'{os.path.abspath(os.curdir)}/data/carseg_data/clean_data',nr_img=1498):\n",
    "    train_data_input=[]\n",
    "    train_data_target=[]\n",
    "    \n",
    "    for n in range(nr_img):\n",
    "        n1=n\n",
    "        if test:\n",
    "            n1=f'{n}_a'\n",
    "        try:\n",
    "            test1=np.load(f'{path}/{n1}.npy')\n",
    "            inputs=test1[:3].transpose()\n",
    "            inputs=tf.convert_to_tensor(inputs)\n",
    "            #inputs=inputs[tf.newaxis,...]\n",
    "            target=test1[3].transpose()\n",
    "            target=tf.convert_to_tensor(target)\n",
    "            target=target[...,tf.newaxis]\n",
    "            #target=target[tf.newaxis,...]\n",
    "\n",
    "            \n",
    "            train_data_input.append(inputs)\n",
    "            train_data_target.append(target)\n",
    "        except:\n",
    "            if Print:\n",
    "                print(f'fil nr {n} mangeler')\n",
    "    return [train_data_input,train_data_target]"
   ]
  },
  {
   "cell_type": "code",
   "execution_count": 19,
   "metadata": {},
   "outputs": [],
   "source": [
    "test_data=load_data(test=True)\n",
    "train_data=load_data()"
   ]
  },
  {
   "cell_type": "code",
   "execution_count": 20,
   "metadata": {},
   "outputs": [
    {
     "name": "stdout",
     "output_type": "stream",
     "text": [
      "test_data:\n",
      "Number of training img 99\n",
      "target sahpe (256, 256, 1)\n",
      "input shape (256, 256, 3)\n",
      "train_data:\n",
      "Number of training img 1128\n",
      "target sahpe (256, 256, 1)\n",
      "input shape (256, 256, 3)\n"
     ]
    }
   ],
   "source": [
    "def Get_stats(data):\n",
    "    print(f'Number of training img {len(data[0])}')\n",
    "    print(f'target sahpe {data[1][0].shape}')\n",
    "    print(f'input shape {data[0][0].shape}')\n",
    "\n",
    "print('test_data:')\n",
    "Get_stats(test_data)\n",
    "print('train_data:')\n",
    "Get_stats(train_data)"
   ]
  },
  {
   "cell_type": "code",
   "execution_count": null,
   "metadata": {},
   "outputs": [],
   "source": []
  },
  {
   "cell_type": "code",
   "execution_count": null,
   "metadata": {},
   "outputs": [],
   "source": []
  }
 ],
 "metadata": {
  "accelerator": "GPU",
  "colab": {
   "collapsed_sections": [],
   "name": "ISS_Medium_rev.ipynb",
   "provenance": []
  },
  "kernelspec": {
   "display_name": "Python 3",
   "language": "python",
   "name": "python3"
  },
  "language_info": {
   "codemirror_mode": {
    "name": "ipython",
    "version": 3
   },
   "file_extension": ".py",
   "mimetype": "text/x-python",
   "name": "python",
   "nbconvert_exporter": "python",
   "pygments_lexer": "ipython3",
   "version": "3.8.5"
  }
 },
 "nbformat": 4,
 "nbformat_minor": 1
}
