{
 "cells": [
  {
   "cell_type": "code",
   "execution_count": 2,
   "metadata": {},
   "outputs": [],
   "source": [
    "import os\n",
    "from torch import nn\n",
    "from torch.nn.functional import one_hot\n",
    "import torch \n",
    "import numpy as np\n",
    "from matplotlib import pyplot as plt\n",
    "import math\n",
    "import torch.nn.functional as F\n",
    "\n"
   ]
  },
  {
   "cell_type": "code",
   "execution_count": 3,
   "metadata": {},
   "outputs": [],
   "source": [
    "#change current directory up to parent, only run 1 time!\n",
    "os.chdir(\"..\")"
   ]
  },
  {
   "cell_type": "code",
   "execution_count": 4,
   "metadata": {},
   "outputs": [],
   "source": [
    "test_id = [0,1,2,3,5,6,10,11,12,19,20,21,22,24,26,28,29,32,33,35,36,39,40,43,45,46,47,50,51,52]"
   ]
  },
  {
   "cell_type": "code",
   "execution_count": 29,
   "metadata": {},
   "outputs": [],
   "source": [
    "#loads data from clean_data \n",
    "#path need to be set to the clean_data folder\n",
    "def load_data(test=False,Print=False,path=f'{os.path.abspath(os.curdir)}/data/carseg_data/clean_data',nr_img=1499):\n",
    "    train_data_input=[]\n",
    "    train_data_target=[]\n",
    "    \n",
    "    if test:\n",
    "        for i in range (len(test_id)):\n",
    "            n = test_id[i]\n",
    "            n1 = f'{n}_a'\n",
    "            test1=np.load(f'{path}/{n1}.npy')\n",
    "            inputs=torch.from_numpy(test1[:3])\n",
    "            target=torch.from_numpy(test1[3])\n",
    "            #target= torch.unsqueeze(target,0)\n",
    "            train_data_input.append(inputs)\n",
    "            train_data_target.append(target)\n",
    "            \n",
    "            \n",
    "            \n",
    "    else:\n",
    "        for l in range(1,835):\n",
    "            if l < 10:\n",
    "                n3 = f'DOOR_000{l}'\n",
    "                print(n3)\n",
    "            elif 9 < l < 100:\n",
    "                n3 = f'DOOR_00{l}'\n",
    "            else:\n",
    "                n3 = f'DOOR_0{l}'\n",
    "\n",
    "            test3=np.load(f'{path}/{n3}.npy')\n",
    "            inputs3=torch.from_numpy(test3[:3])\n",
    "            target3=torch.from_numpy(test3[3])\n",
    "            #target= torch.unsqueeze(target,0)\n",
    "            train_data_input.append(inputs3)\n",
    "            train_data_target.append(target3)\n",
    "        \n",
    "        \n",
    "        for m in range(1,2002):\n",
    "            if m < 10:\n",
    "                #n3 = f'DOOR_000{m}'\n",
    "                n4 = f'OPEL_000{m}'\n",
    "                print(n3)\n",
    "            elif 9 < m < 100:\n",
    "                #n3 = f'DOOR_00{m}'\n",
    "                n4 = f'OPEL_00{m}'\n",
    "            elif 99 < m < 1000:\n",
    "                #n3 = f'DOOR_0{m}'\n",
    "                n4 = f'OPEL_0{m}'\n",
    "            else:\n",
    "                n4 = f'OPEL_{m}'\n",
    "            try:\n",
    "\n",
    "                test4=np.load(f'{path}/{n4}.npy')\n",
    "                inputs4=torch.from_numpy(test4[:3])\n",
    "                target4=torch.from_numpy(test4[3])\n",
    "                #target= torch.unsqueeze(target,0)\n",
    "                train_data_input.append(inputs4)\n",
    "                train_data_target.append(target4)\n",
    "            except:\n",
    "                if Print:\n",
    "                    print(f'fil nr {n} mangeler')\n",
    "\n",
    "        for n in range(nr_img):\n",
    "            n1=n\n",
    "            if (n1 not in test_id):\n",
    "                n2 = f'{n}_a'\n",
    "            '''\n",
    "            if n1 < 10:\n",
    "                n3 = f'DOOR_000{n}'\n",
    "                n4 = f'OPEL_000{n}'\n",
    "                print(n3)\n",
    "            elif 9 < n1 < 100:\n",
    "                n3 = f'DOOR_00{n}'\n",
    "                n4 = f'OPEL_00{n}'\n",
    "            elif 99 < n1 < 1000:\n",
    "                n3 = f'DOOR_0{n}'\n",
    "                n4 = f'OPEL_0{n}'\n",
    "            else:\n",
    "                n4 = f'OPEL_{n}'\n",
    "            \n",
    "            #if test:\n",
    "            #    if (n1 in test_id):\n",
    "            #        #n1=f'{n}_a'\n",
    "            '''\n",
    "            try:\n",
    "                test1=np.load(f'{path}/{n1}.npy')\n",
    "                inputs=torch.from_numpy(test1[:3])\n",
    "                target=torch.from_numpy(test1[3])\n",
    "                #target= torch.unsqueeze(target,0)\n",
    "                train_data_input.append(inputs)\n",
    "                train_data_target.append(target)\n",
    "\n",
    "                test2=np.load(f'{path}/{n2}.npy')\n",
    "                inputs2=torch.from_numpy(test2[:3])\n",
    "                target2=torch.from_numpy(test2[3])\n",
    "                #target= torch.unsqueeze(target,0)\n",
    "                train_data_input.append(inputs2)\n",
    "                train_data_target.append(target2)\n",
    "            except:\n",
    "                if Print:\n",
    "                    print(f'fil nr {n} mangeler')\n",
    "    return [train_data_input,train_data_target]"
   ]
  },
  {
   "cell_type": "code",
   "execution_count": 30,
   "metadata": {},
   "outputs": [
    {
     "name": "stdout",
     "output_type": "stream",
     "text": [
      "DOOR_0001\n",
      "DOOR_0002\n",
      "DOOR_0003\n",
      "DOOR_0004\n",
      "DOOR_0005\n",
      "DOOR_0006\n",
      "DOOR_0007\n",
      "DOOR_0008\n",
      "DOOR_0009\n",
      "DOOR_0834\n",
      "DOOR_0834\n",
      "DOOR_0834\n",
      "DOOR_0834\n",
      "DOOR_0834\n",
      "DOOR_0834\n",
      "DOOR_0834\n",
      "DOOR_0834\n",
      "DOOR_0834\n"
     ]
    }
   ],
   "source": [
    "#Load test and train data\n",
    "test_data=load_data(test=True)\n",
    "train_data=load_data()\n",
    "\n",
    "#split op into x and y\n",
    "test_x, test_y = test_data[0], test_data[1]\n",
    "train_x, train_y = train_data[0], train_data[1]"
   ]
  },
  {
   "cell_type": "code",
   "execution_count": 31,
   "metadata": {},
   "outputs": [
    {
     "name": "stdout",
     "output_type": "stream",
     "text": [
      "test_data:\n",
      "Number of img 30\n",
      "target sahpe torch.Size([256, 256])\n",
      "input shape torch.Size([3, 256, 256])\n",
      "train_data:\n",
      "Number of img 3474\n",
      "target sahpe torch.Size([256, 256])\n",
      "input shape torch.Size([3, 256, 256])\n"
     ]
    }
   ],
   "source": [
    "#the form of data is:\n",
    "#data[0] is a list with all rgb img's as tensor\n",
    "#data[1] is a list with all targets as tensor  \n",
    "def Get_stats(data):\n",
    "    print(f'Number of img {len(data[0])}')\n",
    "    print(f'target sahpe {data[1][0].shape}')\n",
    "    print(f'input shape {data[0][0].shape}')\n",
    "    \n",
    "    \n",
    "#print some info about data structure\n",
    "print('test_data:')\n",
    "Get_stats(test_data)\n",
    "print('train_data:')\n",
    "Get_stats(train_data)"
   ]
  },
  {
   "cell_type": "code",
   "execution_count": null,
   "metadata": {},
   "outputs": [],
   "source": []
  }
 ],
 "metadata": {
  "kernelspec": {
   "display_name": "Python 3",
   "language": "python",
   "name": "python3"
  },
  "language_info": {
   "codemirror_mode": {
    "name": "ipython",
    "version": 3
   },
   "file_extension": ".py",
   "mimetype": "text/x-python",
   "name": "python",
   "nbconvert_exporter": "python",
   "pygments_lexer": "ipython3",
   "version": "3.8.5"
  }
 },
 "nbformat": 4,
 "nbformat_minor": 4
}
