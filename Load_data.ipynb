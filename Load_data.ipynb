{
 "cells": [
  {
   "cell_type": "markdown",
   "id": "ee9905fb",
   "metadata": {},
   "source": [
    "Data"
   ]
  },
  {
   "cell_type": "code",
   "execution_count": 2,
   "id": "2f4890bf",
   "metadata": {},
   "outputs": [
    {
     "ename": "ModuleNotFoundError",
     "evalue": "No module named 'matplotlib'",
     "output_type": "error",
     "traceback": [
      "\u001b[1;31m---------------------------------------------------------------------------\u001b[0m",
      "\u001b[1;31mModuleNotFoundError\u001b[0m                       Traceback (most recent call last)",
      "Input \u001b[1;32mIn [2]\u001b[0m, in \u001b[0;36m<cell line: 1>\u001b[1;34m()\u001b[0m\n\u001b[1;32m----> 1\u001b[0m \u001b[38;5;28;01mimport\u001b[39;00m \u001b[38;5;21;01mmatplotlib\u001b[39;00m\u001b[38;5;21;01m.\u001b[39;00m\u001b[38;5;21;01mpyplot\u001b[39;00m \u001b[38;5;28;01mas\u001b[39;00m \u001b[38;5;21;01mplt\u001b[39;00m\n\u001b[0;32m      2\u001b[0m \u001b[38;5;28;01mimport\u001b[39;00m \u001b[38;5;21;01mmatplotlib\u001b[39;00m\u001b[38;5;21;01m.\u001b[39;00m\u001b[38;5;21;01mimage\u001b[39;00m \u001b[38;5;28;01mas\u001b[39;00m \u001b[38;5;21;01mmpimg\u001b[39;00m\n\u001b[0;32m      3\u001b[0m \u001b[38;5;28;01mimport\u001b[39;00m \u001b[38;5;21;01mos\u001b[39;00m\n",
      "\u001b[1;31mModuleNotFoundError\u001b[0m: No module named 'matplotlib'"
     ]
    }
   ],
   "source": [
    "import matplotlib.pyplot as plt\n",
    "import matplotlib.image as mpimg\n",
    "import os\n",
    "import torch\n",
    "import numpy as np"
   ]
  },
  {
   "cell_type": "code",
   "execution_count": 4,
   "id": "187477a2",
   "metadata": {},
   "outputs": [],
   "source": [
    "#change current directory up to parent, only run 1 time!\n",
    "os.chdir(\"..\")"
   ]
  },
  {
   "cell_type": "code",
   "execution_count": 5,
   "id": "9ef452f5",
   "metadata": {},
   "outputs": [
    {
     "name": "stdout",
     "output_type": "stream",
     "text": [
      "[[[143 142 124]\n",
      "  [143 142 124]\n",
      "  [143 142 124]\n",
      "  ...\n",
      "  [ 38  36  39]\n",
      "  [ 38  36  39]\n",
      "  [ 39  34  38]]\n",
      "\n",
      " [[143 142 124]\n",
      "  [143 142 124]\n",
      "  [143 142 124]\n",
      "  ...\n",
      "  [ 37  35  38]\n",
      "  [ 38  36  39]\n",
      "  [ 38  33  37]]\n",
      "\n",
      " [[143 142 124]\n",
      "  [143 142 124]\n",
      "  [143 142 124]\n",
      "  ...\n",
      "  [ 36  34  37]\n",
      "  [ 36  34  37]\n",
      "  [ 36  34  37]]\n",
      "\n",
      " ...\n",
      "\n",
      " [[ 12  12  10]\n",
      "  [ 15  15  13]\n",
      "  [ 18  18  16]\n",
      "  ...\n",
      "  [134 132 109]\n",
      "  [129 127 104]\n",
      "  [122 120  97]]\n",
      "\n",
      " [[ 13  13  11]\n",
      "  [ 17  17  15]\n",
      "  [ 21  21  19]\n",
      "  ...\n",
      "  [136 134 111]\n",
      "  [130 128 105]\n",
      "  [122 120  97]]\n",
      "\n",
      " [[ 14  14  12]\n",
      "  [ 18  18  16]\n",
      "  [ 22  22  20]\n",
      "  ...\n",
      "  [137 135 112]\n",
      "  [131 129 106]\n",
      "  [122 120  97]]]\n"
     ]
    }
   ],
   "source": [
    "img=mpimg.imread(f'{os.path.abspath(os.curdir)}/data/archive/img/1.jpg')\n",
    "#imgplot = plt.imshow(img) \n",
    "print(img)"
   ]
  },
  {
   "cell_type": "code",
   "execution_count": 6,
   "id": "28251655",
   "metadata": {},
   "outputs": [
    {
     "name": "stdout",
     "output_type": "stream",
     "text": [
      "tensor([[[143, 142, 124],\n",
      "         [143, 142, 124],\n",
      "         [143, 142, 124],\n",
      "         ...,\n",
      "         [ 38,  36,  39],\n",
      "         [ 38,  36,  39],\n",
      "         [ 39,  34,  38]],\n",
      "\n",
      "        [[143, 142, 124],\n",
      "         [143, 142, 124],\n",
      "         [143, 142, 124],\n",
      "         ...,\n",
      "         [ 37,  35,  38],\n",
      "         [ 38,  36,  39],\n",
      "         [ 38,  33,  37]],\n",
      "\n",
      "        [[143, 142, 124],\n",
      "         [143, 142, 124],\n",
      "         [143, 142, 124],\n",
      "         ...,\n",
      "         [ 36,  34,  37],\n",
      "         [ 36,  34,  37],\n",
      "         [ 36,  34,  37]],\n",
      "\n",
      "        ...,\n",
      "\n",
      "        [[ 12,  12,  10],\n",
      "         [ 15,  15,  13],\n",
      "         [ 18,  18,  16],\n",
      "         ...,\n",
      "         [134, 132, 109],\n",
      "         [129, 127, 104],\n",
      "         [122, 120,  97]],\n",
      "\n",
      "        [[ 13,  13,  11],\n",
      "         [ 17,  17,  15],\n",
      "         [ 21,  21,  19],\n",
      "         ...,\n",
      "         [136, 134, 111],\n",
      "         [130, 128, 105],\n",
      "         [122, 120,  97]],\n",
      "\n",
      "        [[ 14,  14,  12],\n",
      "         [ 18,  18,  16],\n",
      "         [ 22,  22,  20],\n",
      "         ...,\n",
      "         [137, 135, 112],\n",
      "         [131, 129, 106],\n",
      "         [122, 120,  97]]], dtype=torch.uint8)\n"
     ]
    }
   ],
   "source": [
    "print(torch.from_numpy(img))"
   ]
  },
  {
   "cell_type": "code",
   "execution_count": 27,
   "id": "27acd383",
   "metadata": {},
   "outputs": [],
   "source": [
    "path1=f'{os.path.abspath(os.curdir)}/data/carseg_data/clean_data/0.npy'\n",
    "path2=f'{os.path.abspath(os.curdir)}/data/carseg_data/clean_data/0_a.npy'\n",
    "test1=np.load(path1)\n",
    "test2=np.load(path2)"
   ]
  },
  {
   "cell_type": "code",
   "execution_count": 1,
   "id": "d8e8165f",
   "metadata": {},
   "outputs": [
    {
     "ename": "NameError",
     "evalue": "name 'test2' is not defined",
     "output_type": "error",
     "traceback": [
      "\u001b[1;31m---------------------------------------------------------------------------\u001b[0m",
      "\u001b[1;31mNameError\u001b[0m                                 Traceback (most recent call last)",
      "Input \u001b[1;32mIn [1]\u001b[0m, in \u001b[0;36m<cell line: 1>\u001b[1;34m()\u001b[0m\n\u001b[1;32m----> 1\u001b[0m \u001b[43mtest2\u001b[49m\u001b[38;5;241m.\u001b[39mshape\n\u001b[0;32m      2\u001b[0m \u001b[38;5;28mprint\u001b[39m(\u001b[38;5;124m\"\u001b[39m\u001b[38;5;124mhey\u001b[39m\u001b[38;5;124m\"\u001b[39m)\n",
      "\u001b[1;31mNameError\u001b[0m: name 'test2' is not defined"
     ]
    }
   ],
   "source": [
    "test2.shape\n",
    "print(\"hey\")"
   ]
  }
 ],
 "metadata": {
  "kernelspec": {
   "display_name": "Python 3 (ipykernel)",
   "language": "python",
   "name": "python3"
  },
  "language_info": {
   "codemirror_mode": {
    "name": "ipython",
    "version": 3
   },
   "file_extension": ".py",
   "mimetype": "text/x-python",
   "name": "python",
   "nbconvert_exporter": "python",
   "pygments_lexer": "ipython3",
   "version": "3.9.13"
  }
 },
 "nbformat": 4,
 "nbformat_minor": 5
}
